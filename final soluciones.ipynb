{
 "cells": [
  {
   "attachments": {},
   "cell_type": "markdown",
   "metadata": {
    "id": "y1-KuHYoen_b"
   },
   "source": [
    "# **Universidad del Norte**\n",
    "## **Departamento de Ingeniería de Sistemas**\n",
    "## IST4360 - Exámen Final"
   ]
  },
  {
   "cell_type": "code",
   "execution_count": 43,
   "metadata": {},
   "outputs": [],
   "source": [
    "import numpy as np\n",
    "import matplotlib.pyplot as plt\n",
    "from scipy.integrate import quad\n",
    "from scipy.special import roots_legendre"
   ]
  },
  {
   "attachments": {},
   "cell_type": "markdown",
   "metadata": {
    "id": "fB3465I0aEDu"
   },
   "source": [
    "**Instrucciones:** Resuelve los siguientes problemas utilizando Python y los métodos numéricos adecuados. Proporciona tu solución completa, incluyendo el código y los resultados obtenidos. Puedes utilizar cualquier biblioteca de Python que consideres necesaria.\n",
    "\n",
    "**Ejercicio 1 (100 ptos):**\n",
    "\n",
    "Considera el siguiente sistema de ecuaciones diferenciales ordinarias:\n",
    "\n",
    "\n",
    "$\\frac{dx}{dt} = x^2 - xy$\n",
    "\n",
    "$\\frac{dy}{dt} = -3y + xy$\n",
    "\n",
    "\n",
    "Resuelve numéricamente este sistema utilizando el método de Runge-Kutta de cuarto orden en el intervalo [0, 2] con las siguientes condiciones iniciales:\n",
    "\n",
    "\n",
    "$x(0) = 2$\n",
    "\n",
    "$y(0) = 1$\n",
    "\n",
    "\n",
    "Calcula los valores de x y y en t = 2."
   ]
  },
  {
   "cell_type": "code",
   "execution_count": 44,
   "metadata": {},
   "outputs": [
    {
     "name": "stdout",
     "output_type": "stream",
     "text": [
      "x(1) = 8.21457910189415e+28\n",
      "y(1) = 2.167231394659356e+28\n"
     ]
    }
   ],
   "source": [
    "def f(t, x, y):\n",
    "    return x**2 - x*y\n",
    "\n",
    "def g(t, x, y):\n",
    "    return -3*y + x*y\n",
    "\n",
    "def runge_kutta_4(f, g, a, b, h, w0, z0):\n",
    "    n = int((b - a) / h)\n",
    "    w = [w0]\n",
    "    z = [z0]\n",
    "    t = a\n",
    "    for _ in range(n):\n",
    "        k1_w = h * f(t, w[-1], z[-1])\n",
    "        k1_z = h * g(t, w[-1], z[-1])\n",
    "\n",
    "        k2_w = h * f(t + h / 2, w[-1] + k1_w / 2, z[-1] + k1_z / 2)\n",
    "        k2_z = h * g(t + h / 2, w[-1] + k1_w / 2, z[-1] + k1_z / 2)\n",
    "\n",
    "        k3_w = h * f(t + h / 2, w[-1] + k2_w / 2, z[-1] + k2_z / 2)\n",
    "        k3_z = h * g(t + h / 2, w[-1] + k2_w / 2, z[-1] + k2_z / 2) \n",
    "\n",
    "        k4_w = h * f(t + h, w[-1] + k3_w, z[-1] + k3_z)\n",
    "        k4_z = h * g(t + h, w[-1] + k3_w, z[-1] + k3_z)\n",
    "\n",
    "        w_next = w[-1] + (k1_w + 2 * k2_w + 2 * k3_w + k4_w) / 6\n",
    "        z_next = z[-1] + (k1_z + 2 * k2_z + 2 * k3_z + k4_z) / 6\n",
    "\n",
    "        w.append(w_next)\n",
    "        z.append(z_next)\n",
    "        t += h\n",
    "\n",
    "    return np.array(w), np.array(z)\n",
    "\n",
    "a = 0\n",
    "b = 2\n",
    "h = 1   # utilizamos esta h, porque llega un momento donde las soluciones de las ecuaciones se ponen inestable\n",
    "w0 = 2\n",
    "z0 = 1\n",
    "\n",
    "x, y = runge_kutta_4(f, g, a, b, h, w0, z0)\n",
    "\n",
    "print(\"x(1) =\", x[-1])\n",
    "print(\"y(1) =\", y[-1])"
   ]
  },
  {
   "attachments": {},
   "cell_type": "markdown",
   "metadata": {
    "id": "CV-hkfAxrGV0"
   },
   "source": [
    "**Ejercicio 2 (100 ptos)**\n",
    "\n",
    "Evalúa numéricamente la siguiente integral:\n",
    "\n",
    "\n",
    "$$ ∫_{0}^{1} e^{-x^2} dx$$\n",
    "\n",
    "\n",
    "Utiliza el método de cuadratura de Gauss-Legendre con 50 puntos para obtener la aproximación de la integral. Calcula el error relativo comparando el resultado numérico con el valor exacto de la integral."
   ]
  },
  {
   "cell_type": "code",
   "execution_count": 45,
   "metadata": {},
   "outputs": [
    {
     "name": "stdout",
     "output_type": "stream",
     "text": [
      "el integral con cuadratura de gauss es:0.7468241328124264\n",
      "la integral exacta es: 0.7468241328124271\n",
      "el error relativo es :8.919553955313876e-16\n"
     ]
    }
   ],
   "source": [
    "def f(x):\n",
    "    return np.exp(-x**2)\n",
    "\n",
    "a = 0\n",
    "b = 1\n",
    "\n",
    "x, w = roots_legendre(50)\n",
    "\n",
    "x = (b-a)/2*x + (b+a)/2\n",
    "w = (b-a)/2 * w\n",
    "\n",
    "integral_gauss = np.sum(w * f(x))\n",
    "\n",
    "integral_exact, _ = quad(f, a, b)\n",
    "\n",
    "error_relativo = np.abs((integral_exact-integral_gauss)/integral_exact)\n",
    "\n",
    "print(f\"el integral con cuadratura de gauss es:{integral_gauss}\")\n",
    "print(f\"la integral exacta es: {integral_exact}\")\n",
    "print(f\"el error relativo es :{error_relativo}\")"
   ]
  },
  {
   "attachments": {},
   "cell_type": "markdown",
   "metadata": {
    "id": "6vRE7QRGtamy"
   },
   "source": [
    "**Ejercicio 3 (100 ptos)**\n",
    "\n",
    "Considera el siguiente sistema de ecuaciones diferenciales ordinarias:\n",
    "\n",
    "\n",
    "$\\frac{dx}{dt} = x^2 + y$\n",
    "\n",
    "$\\frac{dy}{dt} = x - y$\n",
    "\n",
    "\n",
    "Resuelve numéricamente este sistema utilizando el método de Runge-Kutta de cuarto orden en el intervalo [0, 1] con las siguientes condiciones iniciales:\n",
    "\n",
    "$x(0) = 1$\n",
    "\n",
    "$y(0) = 0$\n",
    "\n",
    "\n",
    "Calcula los valores de x y y en t = 1."
   ]
  },
  {
   "cell_type": "code",
   "execution_count": 46,
   "metadata": {},
   "outputs": [
    {
     "name": "stdout",
     "output_type": "stream",
     "text": [
      "x(1) = 13659428.192017224\n",
      "y(1) = 500.1474292220015\n"
     ]
    }
   ],
   "source": [
    "def f(t, x, y):\n",
    "    return x**2 + y\n",
    "\n",
    "def g(t, x, y):\n",
    "    return x - y\n",
    "\n",
    "def runge_kutta_4(f, g, a, b, h, w0, z0):\n",
    "    n = int((b - a) / h)\n",
    "    w = [w0]\n",
    "    z = [z0]\n",
    "    t = a\n",
    "    for _ in range(n):\n",
    "        k1_w = h * f(t, w[-1], z[-1])\n",
    "        k1_z = h * g(t, w[-1], z[-1])\n",
    "\n",
    "        k2_w = h * f(t + h / 2, w[-1] + k1_w / 2, z[-1] + k1_z / 2)\n",
    "        k2_z = h * g(t + h / 2, w[-1] + k1_w / 2, z[-1] + k1_z / 2)\n",
    "\n",
    "        k3_w = h * f(t + h / 2, w[-1] + k2_w / 2, z[-1] + k2_z / 2)\n",
    "        k3_z = h * g(t + h / 2, w[-1] + k2_w / 2, z[-1] + k2_z / 2) \n",
    "\n",
    "        k4_w = h * f(t + h, w[-1] + k3_w, z[-1] + k3_z)\n",
    "        k4_z = h * g(t + h, w[-1] + k3_w, z[-1] + k3_z)\n",
    "\n",
    "        w_next = w[-1] + (k1_w + 2 * k2_w + 2 * k3_w + k4_w) / 6\n",
    "        z_next = z[-1] + (k1_z + 2 * k2_z + 2 * k3_z + k4_z) / 6\n",
    "\n",
    "        w.append(w_next)\n",
    "        z.append(z_next)\n",
    "        t += h\n",
    "\n",
    "    return np.array(w), np.array(z)\n",
    "\n",
    "a = 0\n",
    "b = 1\n",
    "h = 0.1   # utilizamos esta h, porque llega un momento donde las soluciones de las ecuaciones se ponen inestable\n",
    "w0 = 1\n",
    "z0 = 0\n",
    "\n",
    "x, y = runge_kutta_4(f, g, a, b, h, w0, z0)\n",
    "\n",
    "print(\"x(1) =\", x[-1])\n",
    "print(\"y(1) =\", y[-1])"
   ]
  },
  {
   "attachments": {},
   "cell_type": "markdown",
   "metadata": {
    "id": "WnCQhRUctqhr"
   },
   "source": [
    "\n",
    "**Ejercicio 4 (100 ptos)**\n",
    "\n",
    "Utiliza la cuadratura de Gauss-Legendre con 10 puntos para evaluar numéricamente la siguiente integral:\n",
    "\n",
    "$$∫_{0}^{π/4} \\cos^2(x) dx$$\n",
    "\n",
    "Obtén una aproximación de la integral y muestra el resultado."
   ]
  },
  {
   "cell_type": "code",
   "execution_count": 47,
   "metadata": {},
   "outputs": [
    {
     "name": "stdout",
     "output_type": "stream",
     "text": [
      "el integral con cuadratura de gauss es:0.6426990816987241\n",
      "la integral exacta es: 0.6426990816987241\n",
      "el error relativo es : 0.0\n"
     ]
    }
   ],
   "source": [
    "def f(x):\n",
    "    return (np.cos(x))**2\n",
    "\n",
    "a = 0\n",
    "b = np.pi/4\n",
    "\n",
    "x, w = roots_legendre(10)\n",
    "\n",
    "x = (b-a)/2 * x + (b+a)/2\n",
    "w = (b-a)/2 * w\n",
    "\n",
    "integral_gauss = np.sum(w * f(x))\n",
    "\n",
    "integral_exact, _ = quad(f, a, b)\n",
    "\n",
    "error_relativo = np.abs((integral_exact-integral_gauss)/integral_exact)\n",
    "\n",
    "print(f\"el integral con cuadratura de gauss es:{integral_gauss}\")\n",
    "print(f\"la integral exacta es: {integral_exact}\")\n",
    "print(f\"el error relativo es : {error_relativo}\")"
   ]
  },
  {
   "attachments": {},
   "cell_type": "markdown",
   "metadata": {
    "id": "qUIqBtQbdgyn"
   },
   "source": [
    "**Observación:** Antes de solicitar ayuda a sus compañeros o ayudar a sus compañeros, tenga en cuenta lo siguiente:\n",
    "\n",
    "\n",
    "*   Su puntuación máxima es 300 pts.\n",
    "*   El cálculo de su nota se realizará según la siguiente lógica:\n",
    "$$Nota = 3 + 2\\frac{X - PC}{MX - PC}$$ \n",
    "\n",
    "donde:\n",
    "\n",
    "*   $PC=$ puntuación promedio de todos los estudiantes.\n",
    "*   $MX=$ máxima puntuación obtenida en la clase.\n",
    "*   $X=$ su puntuación\n",
    "\n",
    "**Nota:** Por favor incluir en el archivo que contenga la solución los script, funciones, gráficas, código y cualquier otro elemento utilizado. No coloque respuestas sin justificación, muestre todo los desarrollos.\n",
    "\n",
    "**Recuerde:** En este curso no se tolerará el plagio. Sin excepción, en caso de presentarse esta situación, a los estudiantes involucrados se les iniciará proceso de investigación, y se actuará en conformidad con el Reglamento de Estudiantes de la Universidad del Norte. El plagio incluye: usar contenidos sin la debida referencia, de manera literal o con mínimos cambios que no alteren el espíritu del texto/código; adquirir con o sin intención, trabajos de terceros y presentarlos parcial o totalmente como propios; presentar trabajos en grupo donde alguno de los integrantes no trabajó o donde no se hubo trabajo en equipo demostrable; entre otras situaciones definidas en el manual de fraude académico de la Universidad del Norte."
   ]
  }
 ],
 "metadata": {
  "colab": {
   "provenance": []
  },
  "kernelspec": {
   "display_name": "Python 3 (ipykernel)",
   "language": "python",
   "name": "python3"
  },
  "language_info": {
   "codemirror_mode": {
    "name": "ipython",
    "version": 3
   },
   "file_extension": ".py",
   "mimetype": "text/x-python",
   "name": "python",
   "nbconvert_exporter": "python",
   "pygments_lexer": "ipython3",
   "version": "3.11.2"
  }
 },
 "nbformat": 4,
 "nbformat_minor": 4
}
