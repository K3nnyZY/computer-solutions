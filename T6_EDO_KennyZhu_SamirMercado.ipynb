{
  "cells": [
    {
      "attachments": {},
      "cell_type": "markdown",
      "metadata": {
        "id": "P5-s9tgzNfm9"
      },
      "source": [
        "# Soluciones Computacionales a Problemas de Ingeniería IST4360\n",
        "\n",
        "\n",
        "\n",
        "\n",
        "*   Estudiantes: Kenny Zhu, Samir Mercado\n",
        "*   Código: 200164380, 200161553\n"
      ]
    },
    {
      "cell_type": "code",
      "execution_count": 1,
      "metadata": {},
      "outputs": [],
      "source": [
        "import sympy as sp"
      ]
    },
    {
      "attachments": {},
      "cell_type": "markdown",
      "metadata": {
        "id": "vtEFqqUKItQx"
      },
      "source": [
        "Un proyectil de masa $m = 0.11 kg$ disparado verticalmente hacia arriba con una velocidad inicial $v(0) = 8 m/s$ se frena debido a la fuerza de la gravedad, $F_g = −mg$, y debido a la resistencia del aire, $F_r = −kv|v|$ , donde $g = 9.8 m/s^2$ y $k = 0.002 kg/m$. La ecuación diferencial para la velocidad $v$ viene dada por\n",
        "$$mv'=-mg-kv|v|$$\n",
        "\n",
        "\n",
        "\n",
        "1.   Encuentre la velocidad después de $0.1,\\, 0.2,\\, ...,\\,1.0\\,s$.\n",
        "2.   Al décimo de segundo más cercano, determine cuándo el proyectil alcanza su altura máxima y\n",
        "comienza a caer.\n",
        "\n"
      ]
    },
    {
      "cell_type": "code",
      "execution_count": 2,
      "metadata": {},
      "outputs": [],
      "source": [
        "m = 0.11  # masa (kg)\n",
        "v0 = 8.0  # velocidad inicial (m/s)\n",
        "g = 9.8  # gravedad (m/s)\n",
        "k = 0.002  # constante de resistencia del aire (kg/m)\n",
        "h = 0.1 # pasos\n",
        "t0 = 0 # tiempo inicial\n",
        "tf = 1 # tiempo final\n",
        "n = int((tf - t0) / h) \n",
        "orden = 1"
      ]
    },
    {
      "cell_type": "code",
      "execution_count": 3,
      "metadata": {},
      "outputs": [
        {
          "name": "stdout",
          "output_type": "stream",
          "text": [
            "6.90364\n",
            "5.83698\n",
            "4.79504\n",
            "3.77323\n",
            "2.76735\n",
            "1.77342\n",
            "0.78770\n",
            "-0.19343\n",
            "-1.17336\n",
            "-2.15085\n",
            "El proyectil alcanza su altura máxima y comienza a caer a los 0.8 s\n"
          ]
        }
      ],
      "source": [
        "t, v = sp.symbols('t v')\n",
        "\n",
        "dydt = -g - k * v * abs(v) / m\n",
        "\n",
        "funcion = sp.lambdify((t, v), dydt)\n",
        "\n",
        "# Tiempos en los que queremos calcular la velocidad\n",
        "tiempos = [0.1, 0.2, 0.3, 0.4, 0.5, 0.6, 0.7, 0.8, 0.9, 1]\n",
        "\n",
        "\n",
        "velocaidades = []\n",
        "\n",
        "for _ in range(n):\n",
        "    y_increment = h * funcion(t0, v0)\n",
        "    v0 += y_increment\n",
        "    t0 += h\n",
        "    velocaidades.append(v0)\n",
        "\n",
        "# Imprimimos las velocidades en los tiempos especificados\n",
        "for v in (velocaidades):\n",
        "    print(f\"{v:.5f}\")\n",
        "\n",
        "# Determinamos cuándo el proyectil alcanza su altura máxima y comienza a caer\n",
        "for i in range(len(tiempos)):\n",
        "    if velocaidades[i] < 0:\n",
        "        altura_maxima = tiempos[i]\n",
        "        break\n",
        "\n",
        "print(f\"El proyectil alcanza su altura máxima y comienza a caer a los {altura_maxima} s\")"
      ]
    }
  ],
  "metadata": {
    "colab": {
      "provenance": []
    },
    "kernelspec": {
      "display_name": "Python 3",
      "name": "python3"
    },
    "language_info": {
      "codemirror_mode": {
        "name": "ipython",
        "version": 3
      },
      "file_extension": ".py",
      "mimetype": "text/x-python",
      "name": "python",
      "nbconvert_exporter": "python",
      "pygments_lexer": "ipython3",
      "version": "3.11.2"
    }
  },
  "nbformat": 4,
  "nbformat_minor": 0
}
