{
  "cells": [
    {
      "cell_type": "markdown",
      "metadata": {
        "id": "Lpvd_Y2RvRyr"
      },
      "source": [
        "# **Universidad del Norte**\n",
        "## **Departamento de Ingeniería de Sistemas**\n",
        "## IST4360 - Parcial 1"
      ]
    },
    {
      "cell_type": "markdown",
      "metadata": {
        "id": "K82tJKZZvnSa"
      },
      "source": [
        "\n",
        "\n",
        "*   Nombres y Apellidos: Kenny Dong Jie Zhu Ye, Samir David Mercado Blanco\n",
        "*   Códigos: 200164380 , 200161553\n",
        "\n",
        "\n"
      ]
    },
    {
      "cell_type": "markdown",
      "metadata": {
        "id": "wM-1n7THtw3V"
      },
      "source": [
        "Considere la *curva de Agnesi* dada por la función:\n",
        "$$f(x) = \\frac{1}{1+x^2}$$\n",
        "con $-1\\leq x \\leq 1$.\n",
        "\n",
        "Escriba un polinomio $p(x)$ tal que $|f(x)-p(x)|\\leq 10^{-10}$. Pruebe además que su polinomio $p$ cumple la condición $|f(x)-p(x)|\\leq 10^{-10}$ para $x\\in [-1,\\, 1]$, grafique los errores. (150 Ptos)"
      ]
    },
    {
      "cell_type": "code",
      "execution_count": 24,
      "metadata": {
        "id": "EfgoOla5_G6R"
      },
      "outputs": [],
      "source": [
        "import warnings\n",
        "import numpy as np\n",
        "import numpy.linalg as la\n",
        "import math as mt\n",
        "import matplotlib.pyplot as plt\n",
        "import sympy.plotting as pls\n",
        "import seaborn as sns\n",
        "import sympy as sp\n",
        "from IPython.display import display, Math\n",
        "from sympy.parsing.sympy_parser import parse_expr\n",
        "\n",
        "warnings.filterwarnings('ignore')\n",
        "sns.set_style('darkgrid')"
      ]
    },
    {
      "cell_type": "code",
      "execution_count": 25,
      "metadata": {
        "colab": {
          "base_uri": "https://localhost:8080/",
          "height": 38
        },
        "id": "H8s5QptCtNjX",
        "outputId": "9fdf58a5-ee10-4abb-a106-bdce00ad144f"
      },
      "outputs": [
        {
          "data": {
            "text/latex": [
              "$\\displaystyle 1 - x^{2} + x^{4} + O\\left(x^{6}\\right)$"
            ],
            "text/plain": [
              "<IPython.core.display.Math object>"
            ]
          },
          "metadata": {},
          "output_type": "display_data"
        }
      ],
      "source": [
        "x = sp.symbols(\"x\")  # creamos la variable x\n",
        "f = (1/(1+x**2))  # asignamos la funcion\n",
        "\n",
        "x0 = 0   # punto de expansion\n",
        "n = 6    # orden de polinomio\n",
        "\n",
        "p = sp.series(expr = f, x=x , x0=x0, n=n)   # genera la serie de taylor\n",
        "display(Math(sp.latex(p)))   # muestra la serie en formato latex"
      ]
    },
    {
      "cell_type": "code",
      "execution_count": 26,
      "metadata": {
        "id": "UxZoBHsD_YCh"
      },
      "outputs": [],
      "source": [
        "# Se genera una lista de polinomios de Taylor de f(x)\n",
        "p = [sp.series(expr = f, x=x , x0=x0, n=ni).removeO() for ni in range(2,50)]\n",
        "\n",
        "# Se genera un arreglo con los grados de los polinomios de Taylor generados\n",
        "pol_deg = np.arange(1,(len(p)+1))\n",
        "\n",
        "# Se evalúa la función f(x) en x=0.5\n",
        "f_eval = f.subs(x, 0.5).evalf()\n",
        "\n",
        "# Se evalúa cada uno de los polinomios de Taylor en x=0.5\n",
        "p_eval = [p_n.subs(x, 0.5).evalf() for p_n in p]\n",
        "\n",
        "# Se genera una lista con los errores reales para cada grado de polinomio generado\n",
        "error_real = [np.abs(float(f_eval - p_eval[i])) for i in range(len(pol_deg))]"
      ]
    },
    {
      "cell_type": "code",
      "execution_count": 27,
      "metadata": {
        "colab": {
          "base_uri": "https://localhost:8080/"
        },
        "id": "M-XOpa6zDv-4",
        "outputId": "67024383-bd80-4c40-d483-0c7079187579"
      },
      "outputs": [
        {
          "name": "stdout",
          "output_type": "stream",
          "text": [
            "El polinomio p(x) tal que |f(x) − p(x)| ≤ 10^-10 para −0.2 ≤ x ≤ 0.2 es: \n",
            "Polinomio de orden n = 32\n",
            "Valor es: 4.656608432185294e-11\n"
          ]
        }
      ],
      "source": [
        "found_n = False\n",
        "for i in range(len(error_real)):\n",
        "    if error_real[i] <= 10**-10:\n",
        "        print(f\"El polinomio p(x) tal que |f(x) − p(x)| ≤ 10^-10 para −0.2 ≤ x ≤ 0.2 es: \\nPolinomio de orden n = {i+1}\")\n",
        "        found_n = True\n",
        "        print(f\"Valor es: {error_real[i]}\")\n",
        "        break\n",
        "if not found_n:\n",
        "    print(\"No hay polinomio p(x) tal que |f(x) − p(x)| ≤ 10^-10 para −0.2 ≤ x ≤ 0.2. Intente con más polinomios.\")"
      ]
    },
    {
      "cell_type": "code",
      "execution_count": 28,
      "metadata": {
        "colab": {
          "base_uri": "https://localhost:8080/",
          "height": 338
        },
        "id": "nsaNhtc8_3AB",
        "outputId": "be5aa224-f8ba-4ad8-9ac1-2eed481bc7b0"
      },
      "outputs": [
        {
          "data": {
            "image/png": "[encoded data removed]",
            "text/plain": [
              "<Figure size 1200x500 with 2 Axes>"
            ]
          },
          "metadata": {},
          "output_type": "display_data"
        }
      ],
      "source": [
        "fig, (ax1, ax2) = plt.subplots(1, 2, figsize=(12,5))\n",
        "\n",
        "ax1.plot(pol_deg,error_real, color ='r')\n",
        "ax1.set_title('Error')\n",
        "ax1.legend('Error real', prop={'size':10})\n",
        "\n",
        "ax2.plot(pol_deg,np.log10(error_real), color = 'r')\n",
        "ax2.set_title('$\\log_{10}$ Error')\n",
        "ax2.legend('Error real', prop={'size':10});"
      ]
    },
    {
      "cell_type": "markdown",
      "metadata": {
        "id": "lupEKDewuGDO"
      },
      "source": [
        "Grafique en un solo lienzo a $f$ y los polinomios de Taylor de grado $n=1,2,...,6$. (50 Ptos)"
      ]
    },
    {
      "cell_type": "code",
      "execution_count": 29,
      "metadata": {
        "colab": {
          "base_uri": "https://localhost:8080/",
          "height": 38
        },
        "id": "T5Qa3KsYuMl2",
        "outputId": "2fb19f1f-9b6a-4d2b-ce02-db41c6df2681"
      },
      "outputs": [
        {
          "data": {
            "text/latex": [
              "$\\displaystyle 1 - x^{2} + x^{4} + O\\left(x^{6}\\right)$"
            ],
            "text/plain": [
              "<IPython.core.display.Math object>"
            ]
          },
          "metadata": {},
          "output_type": "display_data"
        }
      ],
      "source": [
        "p = sp.series(expr= f, x=x, x0=x0, n=n)  # genera la serie de taylor de f\n",
        "display(Math(sp.latex(p)))"
      ]
    },
    {
      "cell_type": "code",
      "execution_count": 30,
      "metadata": {
        "colab": {
          "base_uri": "https://localhost:8080/",
          "height": 144
        },
        "id": "wpWkFnGKENdp",
        "outputId": "a98f6014-518f-41fc-c236-a27dc463d158"
      },
      "outputs": [
        {
          "data": {
            "text/latex": [
              "$\\displaystyle 1$"
            ],
            "text/plain": [
              "<IPython.core.display.Math object>"
            ]
          },
          "metadata": {},
          "output_type": "display_data"
        },
        {
          "data": {
            "text/latex": [
              "$\\displaystyle 1 - x^{2}$"
            ],
            "text/plain": [
              "<IPython.core.display.Math object>"
            ]
          },
          "metadata": {},
          "output_type": "display_data"
        },
        {
          "data": {
            "text/latex": [
              "$\\displaystyle 1 - x^{2}$"
            ],
            "text/plain": [
              "<IPython.core.display.Math object>"
            ]
          },
          "metadata": {},
          "output_type": "display_data"
        },
        {
          "data": {
            "text/latex": [
              "$\\displaystyle x^{4} - x^{2} + 1$"
            ],
            "text/plain": [
              "<IPython.core.display.Math object>"
            ]
          },
          "metadata": {},
          "output_type": "display_data"
        },
        {
          "data": {
            "text/latex": [
              "$\\displaystyle x^{4} - x^{2} + 1$"
            ],
            "text/plain": [
              "<IPython.core.display.Math object>"
            ]
          },
          "metadata": {},
          "output_type": "display_data"
        },
        {
          "data": {
            "text/latex": [
              "$\\displaystyle - x^{6} + x^{4} - x^{2} + 1$"
            ],
            "text/plain": [
              "<IPython.core.display.Math object>"
            ]
          },
          "metadata": {},
          "output_type": "display_data"
        }
      ],
      "source": [
        "max_n = 8\n",
        "p = [sp.series(expr = f, x0=x0, n=n).removeO() for n in range(2,max_n)]  \n",
        "p_latex = [sp.latex(pol) for pol in p]\n",
        "distLatex = [display(Math(q)) for q in p_latex]\n",
        "n_pol = len(p)"
      ]
    },
    {
      "cell_type": "code",
      "execution_count": 31,
      "metadata": {
        "colab": {
          "base_uri": "https://localhost:8080/",
          "height": 297
        },
        "id": "NGlhVORlEW9h",
        "outputId": "539559a3-eb81-4aa8-f13a-c569c85be359"
      },
      "outputs": [
        {
          "data": {
            "image/png": "[encoded data removed]",
            "text/plain": [
              "<Figure size 640x480 with 1 Axes>"
            ]
          },
          "metadata": {},
          "output_type": "display_data"
        }
      ],
      "source": [
        "sns.set_style('whitegrid')\n",
        "cmap = sns.color_palette('tab10', n_pol)\n",
        "fig = pls.plot(f,xlim=[-5,5],ylim=[-5,5], line_color='r', show=False)\n",
        "labs = ['$f(x)$']\n",
        "for n in range(n_pol):\n",
        "  c = cmap[n]\n",
        "  labs.append(f'$p_{n+1}(x)$')\n",
        "  fig.extend(pls.plot(p[n],xlim=[-5,5],ylim=[-5,5], line_color=c, show=False))\n",
        "for n in range(n_pol+1): fig[n].label = labs[n]\n",
        "fig.legend = True\n",
        "fig.show()"
      ]
    },
    {
      "cell_type": "markdown",
      "metadata": {
        "id": "EoQFvJpMuOTv"
      },
      "source": [
        "Calcule $f'(1)$ mediante diferencias progresivas con $\\mathcal{O}{(h^2)}$ para distintos valores de $h$, grafique los errores e indique qué valor de $h$ minimiza el error. (100 Ptos)"
      ]
    },
    {
      "cell_type": "markdown",
      "metadata": {
        "id": "9jiOrImKGoUW"
      },
      "source": [
        "Haciendo uso del Teorema de Taylor tenemos las siguientes igualdades para $x=x_0+kh$, con $k=1,2$ \n",
        "$$f(x_{0}+h)=f{\\left(x_{0} \\right)} + h f'(x_{0}) + \\frac{h^{2}}{2}f''(x_{0}) + O(h^3) \n",
        "\\\\f(x_{0}+2h)=f{\\left(x_{0} \\right)} + 2 h f'(x_{0}) + 2 h^{2} f''(x_{0}) + O(h^3)$$\n",
        "\n",
        "Con lo anterior nos interesa encontrar una combinación lineal tal el termino $f''$ desaparezca y que además se garantice que $f'$ se mantenga. Es decir que nos interesan encontrar constantes $a,b$ tales que se obtenga la siguiente combinación lineal\n",
        "$$(a + 2b) f'(x_{0}) +   (\\frac{a}{2} + 2 b) f''(x_{0}) = f'(x_0)$$\n"
      ]
    },
    {
      "cell_type": "code",
      "execution_count": 32,
      "metadata": {
        "id": "x4Kp7lKbua8o"
      },
      "outputs": [],
      "source": [
        "coeff = np.array([\n",
        "    [1, 2],\n",
        "    [1/2,2], \n",
        "])\n",
        "\n",
        "# Se define el vector de términos constantes \"constants\"\n",
        "constants = np.array([1,0])\n",
        "\n",
        "# Se resuelve el sistema de ecuaciones lineales representado por la matriz de coeficientes \"coeff\" y el vector de términos constantes \"constants\" utilizando la función \"solve\" del módulo \"linalg\" de NumPy.\n",
        "# Los valores de la matriz de soluciones se asignan a las variables \"a\", \"b\", respectivamente.\n",
        "a, b = la.solve(coeff,constants)"
      ]
    },
    {
      "cell_type": "code",
      "execution_count": 33,
      "metadata": {
        "id": "D0FiLta1JK_A"
      },
      "outputs": [],
      "source": [
        "x,x0,h = sp.symbols('x,x0,h')\n",
        "f = parse_expr('f(x)')\n",
        "n=3"
      ]
    },
    {
      "cell_type": "code",
      "execution_count": 34,
      "metadata": {
        "colab": {
          "base_uri": "https://localhost:8080/",
          "height": 121
        },
        "id": "L48Y1ZZnJQ7g",
        "outputId": "331bf367-b97d-4582-cc10-58d6ffa78389"
      },
      "outputs": [
        {
          "data": {
            "text/latex": [
              "$\\displaystyle f{\\left(h + x_{0} \\right)} - f{\\left(x_{0} \\right)} - h \\left. \\frac{d}{d \\xi_{1}} f{\\left(\\xi_{1} \\right)} \\right|_{\\substack{ \\xi_{1}=x_{0} }} - \\frac{h^{2} \\left. \\frac{d^{2}}{d \\xi_{1}^{2}} f{\\left(\\xi_{1} \\right)} \\right|_{\\substack{ \\xi_{1}=x_{0} }}}{2} + O\\left(h^{3}\\right)$"
            ],
            "text/plain": [
              "f(h + x0) - f(x0) - h*Subs(Derivative(f(_xi_1), _xi_1), _xi_1, x0) - h**2*Subs(Derivative(f(_xi_1), (_xi_1, 2)), _xi_1, x0)/2 + O(h**3)"
            ]
          },
          "metadata": {},
          "output_type": "display_data"
        },
        {
          "data": {
            "text/latex": [
              "$\\displaystyle f{\\left(2 h + x_{0} \\right)} - f{\\left(x_{0} \\right)} - 2 h \\left. \\frac{d}{d \\xi_{1}} f{\\left(\\xi_{1} \\right)} \\right|_{\\substack{ \\xi_{1}=x_{0} }} - 2 h^{2} \\left. \\frac{d^{2}}{d \\xi_{1}^{2}} f{\\left(\\xi_{1} \\right)} \\right|_{\\substack{ \\xi_{1}=x_{0} }} + O\\left(h^{3}\\right)$"
            ],
            "text/plain": [
              "f(2*h + x0) - f(x0) - 2*h*Subs(Derivative(f(_xi_1), _xi_1), _xi_1, x0) - 2*h**2*Subs(Derivative(f(_xi_1), (_xi_1, 2)), _xi_1, x0) + O(h**3)"
            ]
          },
          "metadata": {},
          "output_type": "display_data"
        }
      ],
      "source": [
        "f1 =f.subs(x,x0+h)-sp.series(expr=f,x=x,x0=x0,n=n).subs(x,x0+h)\n",
        "display(f1)\n",
        "f2 =f.subs(x,x0+2*h)-sp.series(expr=f,x=x,x0=x0,n=n).subs(x,x0+2*h)\n",
        "display(f2)"
      ]
    },
    {
      "cell_type": "code",
      "execution_count": 35,
      "metadata": {
        "id": "py1LzakjJl7g"
      },
      "outputs": [],
      "source": [
        "# Define una expresión simbólica F0 como una combinación lineal de las expresiones simbólicas f1, f2 y f3, utilizando los símbolos a, b y c.\n",
        "F0 = a*f1 + b*f2\n",
        "\n",
        "# Simplifica la expresión simbólica F0 utilizando la función nsimplify() del módulo sympy.\n",
        "# Se le proporciona una tolerancia de 10^-4 para simplificar la expresion y se indica que se prefiere una forma racional.\n",
        "F1 = sp.nsimplify(F0, tolerance=10**-4, rational=True)\n",
        "\n",
        "# Asigna la expresión simplificada a la variable F1."
      ]
    },
    {
      "cell_type": "code",
      "execution_count": 36,
      "metadata": {
        "colab": {
          "base_uri": "https://localhost:8080/",
          "height": 53
        },
        "id": "1krR05k4JsXf",
        "outputId": "1f30692b-831f-438f-d2d2-b8df70ea3afc"
      },
      "outputs": [
        {
          "data": {
            "text/latex": [
              "$\\displaystyle - \\frac{f{\\left(2 h + x_{0} \\right)}}{2} + 2 f{\\left(h + x_{0} \\right)} - \\frac{3 f{\\left(x_{0} \\right)}}{2} - h f'(x_{0}) + O\\left(h^{3}\\right)=0$"
            ],
            "text/plain": [
              "<IPython.core.display.Math object>"
            ]
          },
          "metadata": {},
          "output_type": "display_data"
        }
      ],
      "source": [
        "display(Math(sp.latex(F1).replace('\\\\left. \\\\frac{d}{d \\\\xi_{1}} f{\\\\left(\\\\xi_{1} \\\\right)} \\\\right|_{\\\\substack{ \\\\xi_{1}=x_{0} }}',\"f'(x_{0})\")+'=0'))"
      ]
    },
    {
      "cell_type": "markdown",
      "metadata": {
        "id": "2VonWehPMm3X"
      },
      "source": [
        "obtenemos:\n",
        "\n",
        "formula diferencias progresivas\n",
        "$$f'(x_{0}) = \\frac{-f(x_{0}+2h)+4f(x_{0}+h)-3f(x_{0})}{2h} + O\\left(h^{2}\\right)$$\n"
      ]
    },
    {
      "cell_type": "code",
      "execution_count": 37,
      "metadata": {
        "colab": {
          "base_uri": "https://localhost:8080/",
          "height": 121
        },
        "id": "nTv_rJDwLGAf",
        "outputId": "707c0564-dc77-42cf-beb0-1429e667609a"
      },
      "outputs": [
        {
          "data": {
            "text/latex": [
              "$\\displaystyle f{\\left(- h + x_{0} \\right)} - f{\\left(x_{0} \\right)} + h \\left. \\frac{d}{d \\xi_{1}} f{\\left(\\xi_{1} \\right)} \\right|_{\\substack{ \\xi_{1}=x_{0} }} - \\frac{h^{2} \\left. \\frac{d^{2}}{d \\xi_{1}^{2}} f{\\left(\\xi_{1} \\right)} \\right|_{\\substack{ \\xi_{1}=x_{0} }}}{2} + O\\left(h^{3}\\right)$"
            ],
            "text/plain": [
              "f(-h + x0) - f(x0) + h*Subs(Derivative(f(_xi_1), _xi_1), _xi_1, x0) - h**2*Subs(Derivative(f(_xi_1), (_xi_1, 2)), _xi_1, x0)/2 + O(h**3)"
            ]
          },
          "metadata": {},
          "output_type": "display_data"
        },
        {
          "data": {
            "text/latex": [
              "$\\displaystyle f{\\left(- 2 h + x_{0} \\right)} - f{\\left(x_{0} \\right)} + 2 h \\left. \\frac{d}{d \\xi_{1}} f{\\left(\\xi_{1} \\right)} \\right|_{\\substack{ \\xi_{1}=x_{0} }} - 2 h^{2} \\left. \\frac{d^{2}}{d \\xi_{1}^{2}} f{\\left(\\xi_{1} \\right)} \\right|_{\\substack{ \\xi_{1}=x_{0} }} + O\\left(h^{3}\\right)$"
            ],
            "text/plain": [
              "f(-2*h + x0) - f(x0) + 2*h*Subs(Derivative(f(_xi_1), _xi_1), _xi_1, x0) - 2*h**2*Subs(Derivative(f(_xi_1), (_xi_1, 2)), _xi_1, x0) + O(h**3)"
            ]
          },
          "metadata": {},
          "output_type": "display_data"
        }
      ],
      "source": [
        "f1 =f.subs(x,x0-h)-sp.series(expr=f,x=x,x0=x0,n=n).subs(x,x0-h)\n",
        "display(f1)\n",
        "f2 =f.subs(x,x0-2*h)-sp.series(expr=f,x=x,x0=x0,n=n).subs(x,x0-2*h)\n",
        "display(f2)"
      ]
    },
    {
      "cell_type": "code",
      "execution_count": 38,
      "metadata": {
        "id": "mooH7NnqLGvP"
      },
      "outputs": [],
      "source": [
        "# Define una expresión simbólica F0 como una combinación lineal de las expresiones simbólicas f1 y f2, utilizando los símbolos a y b\n",
        "F0 = a*f1 + b*f2\n",
        "\n",
        "# Simplifica la expresión simbólica F0 utilizando la función nsimplify() del módulo sympy.\n",
        "# Se le proporciona una tolerancia de 10^-4 para simplificar la expresion y se indica que se prefiere una forma racional.\n",
        "F1 = sp.nsimplify(F0, tolerance=10**-4, rational=True)\n",
        "\n",
        "# Asigna la expresión simplificada a la variable F1."
      ]
    },
    {
      "cell_type": "code",
      "execution_count": 39,
      "metadata": {
        "colab": {
          "base_uri": "https://localhost:8080/",
          "height": 53
        },
        "id": "4ny7BUWkLUSA",
        "outputId": "cd95389f-1154-41c4-a409-5714c77d15aa"
      },
      "outputs": [
        {
          "data": {
            "text/latex": [
              "$\\displaystyle 2 f{\\left(- h + x_{0} \\right)} - \\frac{f{\\left(- 2 h + x_{0} \\right)}}{2} - \\frac{3 f{\\left(x_{0} \\right)}}{2} + h f'(x_{0}) + O\\left(h^{3}\\right)=0$"
            ],
            "text/plain": [
              "<IPython.core.display.Math object>"
            ]
          },
          "metadata": {},
          "output_type": "display_data"
        }
      ],
      "source": [
        "display(Math(sp.latex(F1).replace('\\\\left. \\\\frac{d}{d \\\\xi_{1}} f{\\\\left(\\\\xi_{1} \\\\right)} \\\\right|_{\\\\substack{ \\\\xi_{1}=x_{0} }}',\"f'(x_{0})\")+'=0'))"
      ]
    },
    {
      "cell_type": "markdown",
      "metadata": {
        "id": "RzKOS1wONpc_"
      },
      "source": [
        "obtenemos:\n",
        "\n",
        "formula diferencia regresiva\n",
        "$$f'(x_{0}) = \\frac{f(x_{0}-2h)-4f(x_{0}-h)+3f(x_{0})}{2h} + O\\left(h^{2}\\right)$$\n"
      ]
    },
    {
      "cell_type": "code",
      "execution_count": 40,
      "metadata": {
        "colab": {
          "base_uri": "https://localhost:8080/"
        },
        "id": "D6di1XzRODsP",
        "outputId": "1ebc83a2-bd8b-43ec-a735-ff449850f9ff"
      },
      "outputs": [
        {
          "name": "stdout",
          "output_type": "stream",
          "text": [
            "Valores de h: \n",
            " [1e-10, 1e-09, 1e-08, 1e-07, 1e-06, 1e-05, 0.0001, 0.001, 0.01, 0.1]\n",
            "Aproximaciones progresivas: \n",
            "h = 1e-10  ----->   aproximacion: -0.5000000413701855\n",
            "h = 1e-09  ----->   aproximacion: -0.5000000413701855\n",
            "h = 1e-08  ----->   aproximacion: -0.49999998585903427\n",
            "h = 1e-07  ----->   aproximacion: -0.5000000014021566\n",
            "h = 1e-06  ----->   aproximacion: -0.4999999999588667\n",
            "h = 1e-05  ----->   aproximacion: -0.5000000000032756\n",
            "h = 0.0001  ----->   aproximacion: -0.49999999999994493\n",
            "h = 0.001  ----->   aproximacion: -0.4999999992516546\n",
            "h = 0.01  ----->   aproximacion: -0.4999992673125453\n",
            "h = 0.1  ----->   aproximacion: -0.49940657221274387\n",
            "\n",
            "Aproximaciones regresivas: \n",
            "h = 1e-10  ----->    aproximacion: -0.5000000413701855\n",
            "h = 1e-09  ----->    aproximacion: -0.5000000413701855\n",
            "h = 1e-08  ----->    aproximacion: -0.4999999969612645\n",
            "h = 1e-07  ----->    aproximacion: -0.49999999918171056\n",
            "h = 1e-06  ----->    aproximacion: -0.5000000002919336\n",
            "h = 1e-05  ----->    aproximacion: -0.4999999999810711\n",
            "h = 0.0001  ----->    aproximacion: -0.5000000000010552\n",
            "h = 0.001  ----->    aproximacion: -0.500000000751788\n",
            "h = 0.01  ----->    aproximacion: -0.5000007676874696\n",
            "h = 0.1  ----->    aproximacion: -0.5009432691011995\n"
          ]
        }
      ],
      "source": [
        "# Definimos la variable simbólica x y la función f\n",
        "x = sp.Symbol('x')\n",
        "f = (1/(1+x**2))\n",
        "\n",
        "# Definimos el punto de evaluación x0 y una lista de valores de h\n",
        "x0 = 1  \n",
        "h_values = [i for i in range(-10,0)]\n",
        "\n",
        "# Creamos otra lista de valores de h, elevados a potencias negativas de 10\n",
        "# para que los valores sean cercanos a cero\n",
        "h_pot = [10**i for i in range(-10,0)]\n",
        "print(f\"Valores de h: \\n {h_pot}\")\n",
        "\n",
        "# Calculamos las aproximaciones progresivas y regresivas de la derivada\n",
        "# utilizando la fórmula de tres puntos\n",
        "aprox_prog = [float(((-f.subs(x, x0+2*h)+4*f.subs(x, x0+h)-3*f.subs(x, x0))/(2*h))) for h in h_pot]  # formula progresiva\n",
        "\n",
        "aprox_reg = [float(((f.subs(x, x0-2*h)-4*f.subs(x, x0-h)+3*f.subs(x, x0))/(2*h))) for h in h_pot] # formula regresiva\n",
        "\n",
        "# Imprimimos las aproximaciones progresivas y regresivas para cada valor de h\n",
        "print(\"Aproximaciones progresivas: \")\n",
        "for i in range(len(h_pot)):\n",
        "    print(f\"h = {h_pot[i]}  ----->   aproximacion: {aprox_prog[i]}\")\n",
        "\n",
        "print(\"\\nAproximaciones regresivas: \")\n",
        "for i in range(len(h_pot)):\n",
        "    print(f\"h = {h_pot[i]}  ----->    aproximacion: {aprox_reg[i]}\")\n"
      ]
    },
    {
      "cell_type": "code",
      "execution_count": 41,
      "metadata": {
        "colab": {
          "base_uri": "https://localhost:8080/"
        },
        "id": "5Z4mMXERPv--",
        "outputId": "39c01eec-fb2d-4e17-f038-a837492a82ad"
      },
      "outputs": [
        {
          "name": "stdout",
          "output_type": "stream",
          "text": [
            "la derivada de la funcion es -2*x/(x**2 + 1)**2\n",
            " el valor real o f'(1) es: -0.5\n"
          ]
        }
      ],
      "source": [
        "f_diff = sp.diff(f, x)  # se deriva f\n",
        "df_real = float(f_diff.subs(x, x0).evalf())   # valor real que seria la derivada de f evaluada en 1\n",
        "print(f\"la derivada de la funcion es {f_diff}\\n el valor real o f'(1) es: {df_real}\")"
      ]
    },
    {
      "cell_type": "markdown",
      "metadata": {
        "id": "cTZ5mk_6SxCu"
      },
      "source": [
        "### errores\n",
        "\n",
        "hallamos el error de las progresivas y regresivas con: \n",
        "\n",
        "$error = {|valor_{real} - aproximaciones|}$"
      ]
    },
    {
      "cell_type": "code",
      "execution_count": 42,
      "metadata": {
        "colab": {
          "base_uri": "https://localhost:8080/"
        },
        "id": "lmJPJq6vP7KX",
        "outputId": "888e2c53-fca5-425b-a7a0-99004525998a"
      },
      "outputs": [
        {
          "name": "stdout",
          "output_type": "stream",
          "text": [
            "errores progresivas: \n",
            "[4.137018549954519e-08, 4.137018549954519e-08, 1.414096573171264e-08, 1.4021566130395513e-09, 4.11333189731522e-11, 3.275602011854062e-12, 5.5067062021407764e-14, 7.483453856593769e-10, 7.32687454707559e-07, 0.0005934277872561289]\n"
          ]
        }
      ],
      "source": [
        "error_prog = [(np.abs(df_real-df_prog)) for df_prog in aprox_prog]   # lista de errores progresivas\n",
        "print(f\"errores progresivas: \\n{error_prog}\")"
      ]
    },
    {
      "cell_type": "code",
      "execution_count": 43,
      "metadata": {
        "colab": {
          "base_uri": "https://localhost:8080/"
        },
        "id": "6Bx81PKeP97Q",
        "outputId": "d02bc376-874f-4956-e6b2-8004ee030a86"
      },
      "outputs": [
        {
          "name": "stdout",
          "output_type": "stream",
          "text": [
            "errores regresivas:\n",
            "[4.137018549954519e-08, 4.137018549954519e-08, 3.038735485461075e-09, 8.182894362107618e-10, 2.9193358841439476e-10, 1.89289139918003e-11, 1.0551559626037488e-12, 7.517879652141346e-10, 7.676874695938807e-07, 0.0009432691011994621]\n"
          ]
        }
      ],
      "source": [
        "error_reg = [(np.abs(df_real-df_reg)) for df_reg in aprox_reg]  # lista de errores regresivas\n",
        "print(f\"errores regresivas:\\n{error_reg}\")"
      ]
    },
    {
      "cell_type": "code",
      "execution_count": 44,
      "metadata": {
        "colab": {
          "base_uri": "https://localhost:8080/"
        },
        "id": "VY3UlAICQA9w",
        "outputId": "a524e617-7761-4faf-ec3b-8bc17a553584"
      },
      "outputs": [
        {
          "name": "stdout",
          "output_type": "stream",
          "text": [
            "h donde el error es mínimo (progresivas): 0.0001, Error mínimo: 5.5067062021407764e-14\n",
            "h donde el error es mínimo (regresivas): 0.0001, Error mínimo: 1.0551559626037488e-12\n"
          ]
        }
      ],
      "source": [
        "h_min_prog = h_pot[np.argmin([error_prog])]   # encuentra el valor de h correspondiente al error mínimo para las derivadas progresivas\n",
        "h_min_reg = h_pot[np.argmin([error_reg])]    # encuentra el valor de h correspondiente al error mínimo para las derivadas regresivas\n",
        "error_min_prog = error_prog[h_pot.index(h_min_prog)]    # encuentra el error mínimo correspondiente al valor de h mínimo para las derivadas progresivas\n",
        "error_min_reg = error_reg[h_pot.index(h_min_reg)]    # encuentra el error mínimo correspondiente al valor de h mínimo para las derivadas regresivas\n",
        "\n",
        "# imprime los valores de h y error mínimos para cada método de aproximación de derivadas numéricas\n",
        "print(f\"h donde el error es mínimo (progresivas): {h_min_prog}, Error mínimo: {error_min_prog}\")\n",
        "print(f\"h donde el error es mínimo (regresivas): {h_min_reg}, Error mínimo: {error_min_reg}\")"
      ]
    },
    {
      "cell_type": "markdown",
      "metadata": {
        "id": "RxnefAVtTKiG"
      },
      "source": [
        "graficas de errores"
      ]
    },
    {
      "cell_type": "code",
      "execution_count": 45,
      "metadata": {
        "colab": {
          "base_uri": "https://localhost:8080/",
          "height": 352
        },
        "id": "yiC8kJG4QC6P",
        "outputId": "0f5589f5-e6d5-4ba8-9839-a72656a90a44"
      },
      "outputs": [
        {
          "data": {
            "image/png": "[encoded data removed]",
            "text/plain": [
              "<Figure size 1200x500 with 2 Axes>"
            ]
          },
          "metadata": {},
          "output_type": "display_data"
        }
      ],
      "source": [
        "fig, (ax1, ax2) = plt.subplots(1,2,figsize=(12,5))\n",
        "\n",
        "ax1.plot(h_values,np.log10(error_prog),color='r')\n",
        "ax1.set_xlabel(\"valores de h\")\n",
        "ax1.set_ylabel(\"errores\")\n",
        "ax1.set_title('$\\log_{10}$ Error progresiva');\n",
        "\n",
        "ax2.plot(h_values,np.log10(error_reg),color='r')\n",
        "ax2.set_xlabel(\"valores de h\")\n",
        "ax2.set_ylabel(\"errores\")\n",
        "ax2.set_title('$\\log_{10}$ Error regresiva');"
      ]
    },
    {
      "cell_type": "markdown",
      "metadata": {
        "id": "T1XJv4x1tYAF"
      },
      "source": [
        "**Observación:** Antes de solicitar ayuda a sus compañeros o ayudar a sus compañeros, tenga en cuenta lo siguiente:\n",
        "\n",
        "\n",
        "*   Su puntuación máxima es 300 pts.\n",
        "*   El cálculo de su nota se realizará según la siguiente lógica:\n",
        "$$Nota = 3.5 + 1.5\\frac{X - PC}{MX - PC}$$ \n",
        "\n",
        "donde:\n",
        "\n",
        "*   $PC=$ puntuación promedio de todos los estudiantes.\n",
        "*   $MX=$ máxima puntuación obtenida en la clase.\n",
        "*   $X=$ su puntuación\n",
        "\n",
        "**Nota:** Por favor incluir en el archivo que contenga la solución los script, funciones, gráficas, código y cualquier otro elemento utilizado. No coloque respuestas sin justificación, muestre todo los desarrollos.\n",
        "\n",
        "**Recuerde:** En este curso no se tolerará el plagio. Sin excepción, en caso de presentarse esta situación, a los estudiantes involucrados se les iniciará proceso de investigación, y se actuará en conformidad con el Reglamento de Estudiantes de la Universidad del Norte. El plagio incluye: usar contenidos sin la debida referencia, de manera literal o con mínimos cambios que no alteren el espíritu del texto/código; adquirir con o sin intención, trabajos de terceros y presentarlos parcial o totalmente como propios; presentar trabajos en grupo donde alguno de los integrantes no trabajó o donde no se hubo trabajo en equipo demostrable; entre otras situaciones definidas en el manual de fraude académico de la Universidad del Norte [(pdf)](https://guayacan.uninorte.edu.co/normatividad_interna/upload/File/Guia_Prevencion_Fraude%20estudiantes(5).pdf)."
      ]
    }
  ],
  "metadata": {
    "colab": {
      "provenance": []
    },
    "kernelspec": {
      "display_name": "sol_env",
      "language": "python",
      "name": "python3"
    },
    "language_info": {
      "codemirror_mode": {
        "name": "ipython",
        "version": 3
      },
      "file_extension": ".py",
      "mimetype": "text/x-python",
      "name": "python",
      "nbconvert_exporter": "python",
      "pygments_lexer": "ipython3",
      "version": "3.11.2"
    },
    "vscode": {
      "interpreter": {
        "hash": "28e71b5ff7540a6fbd0763a746ae315071bd8bfeb3743301f6b30a13db09d71e"
      }
    }
  },
  "nbformat": 4,
  "nbformat_minor": 0
}
