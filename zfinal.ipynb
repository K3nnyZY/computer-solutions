{
 "cells": [
  {
   "cell_type": "code",
   "execution_count": 26,
   "metadata": {},
   "outputs": [],
   "source": [
    "import sympy as sp\n",
    "import numpy as np\n",
    "import math\n",
    "from IPython.display import display, Math, Latex"
   ]
  },
  {
   "attachments": {},
   "cell_type": "markdown",
   "metadata": {},
   "source": [
    "# EDO"
   ]
  },
  {
   "attachments": {},
   "cell_type": "markdown",
   "metadata": {},
   "source": [
    "### Metodo de Taylor y minimos cuadrados\n",
    "\n",
    "Dado el problema de valor inicial\n",
    "$$y'=\\frac{2}{t}y+t^2e^t,\\, 1\\leq t\\leq2,\\, y(1)=0,$$\n",
    "con solución exacta $y(t)=t^2(e^t-e)$:\n",
    "\n",
    "\n",
    "\n",
    "1.   Encuentre $n$ para el método de Taylor tal que el error absoluto sea del orden de $10^{-6}$. Use $h=0.1$\n",
    "2.   Use los valores generados en el inciso anterior para el $n$ encontrado y una aproximación de la forma $be^{ax}$ por mínimos cuadrados para aproximar $y$ en los siguientes valores, compare con los valores reales de $y$.\n",
    "\n",
    "  *   $y(1.04)$\n",
    "  *   $y(1.55)$\n",
    "  *   $y(1.97)$"
   ]
  },
  {
   "cell_type": "code",
   "execution_count": 27,
   "metadata": {},
   "outputs": [],
   "source": [
    "def derivadas(equation, variable, orden):\n",
    "    derivada = [equation]  # Inicializa la lista de derivada con la ecuación original\n",
    "\n",
    "    for _ in range(1, orden):  # Itera desde 1 hasta el número de derivada deseado - 1\n",
    "        derivative = sp.diff(derivada[-1], variable)  # Calcula la derivada de la última ecuación en la lista\n",
    "        derivative_subs = derivative.subs(sp.diff(y, variable), equation)  # Sustituye la derivada de y en la ecuación calculada\n",
    "        derivada.append(derivative_subs)  # Añade la derivada sustituida a la lista de derivada\n",
    "        \n",
    "    return derivada \n",
    "\n",
    "\n",
    "def taylor_method(derivadas, wi, t0, h, n, orden):\n",
    "    # Convertimos las funciones de las derivadas en funciones lambda que podemos evaluar\n",
    "    derivative_funcs = [sp.lambdify((t, y), d) for d in derivadas]\n",
    "\n",
    "    # Inicializamos una lista vacía para almacenar los valores de y en cada iteración\n",
    "    wi_values = list()\n",
    "\n",
    "    # Realizamos n iteraciones\n",
    "    for _ in range(n):\n",
    "        # Inicializamos el incremento en y para esta iteración\n",
    "        wi_increment = 0\n",
    "        # Calculamos cada término de la serie de Taylor y los sumamos para obtener el incremento en y\n",
    "        for i in range(orden):\n",
    "            wi_increment += h**(i+1) / sp.factorial(i+1) * derivative_funcs[i](t0, wi)\n",
    "        # Actualizamos el valor de y y t para la siguiente iteración\n",
    "        wi += wi_increment\n",
    "        t0 += h\n",
    "        \n",
    "        wi_values.append(wi)\n",
    "        \n",
    "    return wi_values"
   ]
  },
  {
   "attachments": {},
   "cell_type": "markdown",
   "metadata": {},
   "source": [
    "#### punto 1"
   ]
  },
  {
   "cell_type": "code",
   "execution_count": 28,
   "metadata": {},
   "outputs": [
    {
     "name": "stdout",
     "output_type": "stream",
     "text": [
      "valores teoricos\n",
      "0.345919711073756\n",
      "0.866642149992725\n",
      "1.60721441002734\n",
      "2.62035853075637\n",
      "3.96766484293587\n",
      "5.72095955566921\n",
      "7.96387089122865\n",
      "10.7936213478892\n",
      "14.3230773756282\n",
      "18.6830919386253\n"
     ]
    }
   ],
   "source": [
    "t = sp.Symbol('t')\n",
    "y = sp.Function('y')(t)\n",
    "\n",
    "w0 = 0  \n",
    "t0 = 1  \n",
    "h = 0.1  \n",
    "tf = 2\n",
    "n = int((tf - t0) / h) \n",
    "\n",
    "dydt = (2/t) * y + t**2 * sp.exp(t)  \n",
    "orden = 5\n",
    "\n",
    "derivatives_list = derivadas(dydt, t, orden)\n",
    "\n",
    "approximate_wi = taylor_method(derivatives_list, w0, t0, h, n, orden)\n",
    "\n",
    "print(\"valores teoricos\")\n",
    "for i in approximate_wi:\n",
    "    print(i)"
   ]
  },
  {
   "cell_type": "code",
   "execution_count": 29,
   "metadata": {},
   "outputs": [
    {
     "name": "stdout",
     "output_type": "stream",
     "text": [
      "valores reales\n",
      "0.3459198765397399\n",
      "0.866642535759603\n",
      "1.607215078180737\n",
      "2.6203595512358335\n",
      "3.9676662942277936\n",
      "5.72096152559634\n",
      "7.963873477844971\n",
      "10.793624660490641\n",
      "14.323081535891006\n",
      "18.683097081886423\n"
     ]
    }
   ],
   "source": [
    "def y_exact(t):\n",
    "    return t**2 * (math.exp(t) - math.exp(1))\n",
    "\n",
    "t_values = np.linspace(t0,tf,n+1)[1:]\n",
    "\n",
    "y_exact_values = [y_exact(t) for t in t_values]\n",
    "\n",
    "print(\"valores reales\")\n",
    "for i in y_exact_values:\n",
    "    print(i)"
   ]
  },
  {
   "attachments": {},
   "cell_type": "markdown",
   "metadata": {},
   "source": [
    "#### punto 2"
   ]
  },
  {
   "cell_type": "code",
   "execution_count": 30,
   "metadata": {},
   "outputs": [
    {
     "name": "stdout",
     "output_type": "stream",
     "text": [
      "vector A\n",
      "[[1.1 1. ]\n",
      " [1.2 1. ]\n",
      " [1.3 1. ]\n",
      " [1.4 1. ]\n",
      " [1.5 1. ]\n",
      " [1.6 1. ]\n",
      " [1.7 1. ]\n",
      " [1.8 1. ]\n",
      " [1.9 1. ]\n",
      " [2.  1. ]]\n",
      "vector b\n",
      "[-1.06154858 -0.14312913  0.4745025   0.96331115  1.37817772  1.74413655\n",
      "  2.07491517  2.37895534  2.66187204  2.92761894]\n"
     ]
    }
   ],
   "source": [
    "t_array = np.array(t_values)\n",
    "y_array = np.array(approximate_wi, dtype=float)\n",
    "\n",
    "# Aplicamos logaritmo natural a los valores de y\n",
    "y_log = np.log(y_array)\n",
    "\n",
    "# Construimos la matriz A y el vector b para el sistema lineal Ax = b\n",
    "A = np.zeros((len(t_array), 2))\n",
    "A[:, 0] = t_array\n",
    "A[:, 1] = 1\n",
    "\n",
    "print(\"vector A\")\n",
    "print(A)\n",
    "\n",
    "b_vector = y_log\n",
    "\n",
    "print(\"vector b\")\n",
    "print(b_vector)"
   ]
  },
  {
   "cell_type": "code",
   "execution_count": 31,
   "metadata": {},
   "outputs": [
    {
     "name": "stdout",
     "output_type": "stream",
     "text": [
      "constantes hallados:\n",
      "a\n",
      "4.1673061206539765\n",
      "ln_b\n",
      "-5.119443316547542\n"
     ]
    }
   ],
   "source": [
    "# resolvemos el sistema de ecuaciones\n",
    "x = np.linalg.inv(A.T@A)@A.T@b_vector\n",
    "\n",
    "print(\"constantes hallados:\")\n",
    "print(\"a\")\n",
    "a = x[0]\n",
    "print(a)\n",
    "\n",
    "print(\"ln_b\")\n",
    "ln_b = x[1]\n",
    "print(ln_b)"
   ]
  },
  {
   "cell_type": "code",
   "execution_count": 32,
   "metadata": {},
   "outputs": [
    {
     "name": "stdout",
     "output_type": "stream",
     "text": [
      "Valores aproximados:\n",
      "y(1.04) = 0.4559167959823892\n",
      "y(1.55) = 3.818589717168984\n",
      "y(1.97) = 21.980369094892595\n",
      "\n",
      "Valores exactos:\n",
      "y(1.04) = 0.11998749706134393\n",
      "y(1.55) = 4.788635020801403\n",
      "y(1.97) = 17.279298435557664\n",
      "\n",
      "Errores absolutos:\n",
      "Error en t = 1.04: 0.3359292989210453\n",
      "Error en t = 1.55: 0.9700453036324186\n",
      "Error en t = 1.97: 4.701070659334931\n"
     ]
    }
   ],
   "source": [
    "# Obtenemos b a partir de ln_b\n",
    "b = np.exp(ln_b)\n",
    "\n",
    "# Definimos la función aproximada\n",
    "def y_approx(t):\n",
    "    return b * np.exp(a * t)\n",
    "\n",
    "# Evaluamos y_approx en los puntos solicitados\n",
    "t_values_to_evaluate = [1.04, 1.55, 1.97]\n",
    "y_approx_values = [y_approx(t) for t in t_values_to_evaluate]\n",
    "y_exact_values_to_evaluate = [y_exact(t) for t in t_values_to_evaluate]\n",
    "\n",
    "print(\"Valores aproximados:\")\n",
    "for i, val in enumerate(y_approx_values):\n",
    "    print(f\"y({t_values_to_evaluate[i]}) = {val}\")\n",
    "\n",
    "print(\"\\nValores exactos:\")\n",
    "for i, val in enumerate(y_exact_values_to_evaluate):\n",
    "    print(f\"y({t_values_to_evaluate[i]}) = {val}\")\n",
    "\n",
    "print(\"\\nErrores absolutos:\")\n",
    "for i in range(len(y_approx_values)):\n",
    "    error = abs(y_approx_values[i] - y_exact_values_to_evaluate[i])\n",
    "    print(f\"Error en t = {t_values_to_evaluate[i]}: {error}\")"
   ]
  }
 ],
 "metadata": {
  "kernelspec": {
   "display_name": "Python 3",
   "language": "python",
   "name": "python3"
  },
  "language_info": {
   "codemirror_mode": {
    "name": "ipython",
    "version": 3
   },
   "file_extension": ".py",
   "mimetype": "text/x-python",
   "name": "python",
   "nbconvert_exporter": "python",
   "pygments_lexer": "ipython3",
   "version": "3.11.2"
  },
  "orig_nbformat": 4
 },
 "nbformat": 4,
 "nbformat_minor": 2
}
