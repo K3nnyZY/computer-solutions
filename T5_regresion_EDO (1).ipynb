{
 "cells": [
  {
   "cell_type": "code",
   "execution_count": 232,
   "metadata": {
    "id": "avxoiezsNowF"
   },
   "outputs": [],
   "source": [
    "import math as mt\n",
    "import sympy as sp\n",
    "from IPython.display import display, Math\n",
    "import numpy as np\n",
    "from math import exp\n",
    "from sympy.parsing.sympy_parser import parse_expr\n"
   ]
  },
  {
   "attachments": {},
   "cell_type": "markdown",
   "metadata": {
    "id": "P5-s9tgzNfm9"
   },
   "source": [
    "# Soluciones Computacionales a Problemas de Ingeniería IST4360\n",
    "\n",
    "\n",
    "\n",
    "\n",
    "*   Estudiantes:\n",
    "*   Código:\n"
   ]
  },
  {
   "cell_type": "markdown",
   "metadata": {
    "id": "pCeHFYTxISjK"
   },
   "source": [
    "Dado el problema de valor inicial\n",
    "$$y'=\\frac{2}{t}y+t^2e^t,\\, 1\\leq t\\leq2,\\, y(1)=0,$$\n",
    "con solución exacta $y(t)=t^2(e^t-e)$:\n",
    "\n",
    "\n",
    "\n",
    "1.   Encuentre $n$ para el método de Taylor tal que el error absoluto sea del orden de $10^{-6}$. Use $h=0.1$\n",
    "2.   Use los valores generados en el inciso anterior para el $n$ encontrado y una aproximación de la forma $be^{ax}$ por mínimos cuadrados para aproximar $y$ en los siguientes valores, compare con los valores reales de $y$.\n",
    "\n",
    "  *   $y(1.04)$\n",
    "  *   $y(1.55)$\n",
    "  *   $y(1.97)$\n",
    "\n",
    "\n",
    "\n",
    "\n",
    "\n",
    "\n",
    "\n",
    "\n",
    "\n",
    "\n",
    "\n",
    "\n",
    "\n",
    "\n"
   ]
  },
  {
   "cell_type": "code",
   "execution_count": 233,
   "metadata": {
    "id": "w3_Hzc91INUA"
   },
   "outputs": [],
   "source": [
    "# Definimos una función que nos permita iterar nuestro método y obtener Tn\n",
    "def Tn(f,n,h):\n",
    "    df = f\n",
    "    T = f\n",
    "    for i in range(1,n):\n",
    "        df = sp.diff(df,t).subs(dy,f)\n",
    "        T += df*h**i/mt.factorial(i+1)\n",
    "    return T"
   ]
  },
  {
   "cell_type": "code",
   "execution_count": 234,
   "metadata": {},
   "outputs": [],
   "source": [
    "# Definimos nuestras funciones y variables como expresiones matemáticas\n",
    "t = parse_expr(\"t\")\n",
    "yt = parse_expr(\"y(t)\")\n",
    "dy = sp.diff(yt,t)\n",
    "f = parse_expr(\"(2/t*y(t))+t**2*exp(t)\")"
   ]
  },
  {
   "cell_type": "code",
   "execution_count": 235,
   "metadata": {},
   "outputs": [],
   "source": [
    "# Parametros iniciales, paso y número de pasos\n",
    "h = 0.1\n",
    "a = 1\n",
    "b = 2\n",
    "N = int((b-a)/h)\n",
    "n_max = 5\n",
    "W = np.empty((n_max, N+1))\n",
    "\n",
    "# Evaluamos nuestra función\n",
    "for ni in range(1, n_max+1):\n",
    "    wi = 0\n",
    "    ti = 1\n",
    "    W[ni-1,0] = ni\n",
    "    for i in range(1,N+1):\n",
    "        wi += h*(float(Tn(f,ni,h).subs({yt:wi, t:ti}).evalf()))\n",
    "        W[ni-1, i] = wi\n",
    "        ti += h"
   ]
  },
  {
   "cell_type": "code",
   "execution_count": 236,
   "metadata": {},
   "outputs": [
    {
     "name": "stdout",
     "output_type": "stream",
     "text": [
      "[3.28486143e+00 2.13102599e-01 8.07810240e-03 2.28913877e-04\n",
      " 5.14326115e-06]\n"
     ]
    }
   ],
   "source": [
    "# Calculamos el error de nuestro método\n",
    "y = lambda t: (t**2)*(mt.exp(t)-mt.exp(1))\n",
    "errors = np.abs(y(2)- W[:,-1])\n",
    "print(errors)"
   ]
  },
  {
   "cell_type": "code",
   "execution_count": 237,
   "metadata": {},
   "outputs": [
    {
     "data": {
      "text/plain": [
       "array([[ 5.        ],\n",
       "       [ 0.34591971],\n",
       "       [ 0.86664215],\n",
       "       [ 1.60721441],\n",
       "       [ 2.62035853],\n",
       "       [ 3.96766484],\n",
       "       [ 5.72095956],\n",
       "       [ 7.96387089],\n",
       "       [10.79362135],\n",
       "       [14.32307738],\n",
       "       [18.68309194]])"
      ]
     },
     "execution_count": 237,
     "metadata": {},
     "output_type": "execute_result"
    }
   ],
   "source": [
    "W[4].reshape((-1,1))"
   ]
  },
  {
   "cell_type": "code",
   "execution_count": 238,
   "metadata": {},
   "outputs": [
    {
     "data": {
      "text/plain": [
       "array([1. , 1.1, 1.2, 1.3, 1.4, 1.5, 1.6, 1.7, 1.8, 1.9, 2. ])"
      ]
     },
     "execution_count": 238,
     "metadata": {},
     "output_type": "execute_result"
    }
   ],
   "source": [
    "np.linspace(a,b,N+1)"
   ]
  },
  {
   "cell_type": "code",
   "execution_count": 239,
   "metadata": {},
   "outputs": [
    {
     "name": "stdout",
     "output_type": "stream",
     "text": [
      "[[-1.06154858]\n",
      " [-0.14312913]\n",
      " [ 0.4745025 ]\n",
      " [ 0.96331115]\n",
      " [ 1.37817772]\n",
      " [ 1.74413655]\n",
      " [ 2.07491517]\n",
      " [ 2.37895534]\n",
      " [ 2.66187204]\n",
      " [ 2.92761894]]\n"
     ]
    }
   ],
   "source": [
    "X = np.zeros((N+1,2))\n",
    "X[:,1] = 1\n",
    "X[:,0] = np.linspace(a,b,N+1)\n",
    "y = np.zeros(((N+1),1))\n",
    "y[1:] = np.log(W[4,1:].reshape((-1,1)))\n",
    "y = y[1:]\n",
    "X = X[1:]\n",
    "print(y)"
   ]
  },
  {
   "cell_type": "code",
   "execution_count": 240,
   "metadata": {},
   "outputs": [
    {
     "data": {
      "text/plain": [
       "array([[ 4.16730612],\n",
       "       [-5.11944332]])"
      ]
     },
     "execution_count": 240,
     "metadata": {},
     "output_type": "execute_result"
    }
   ],
   "source": [
    "beta = np.linalg.inv(X.T@X)@X.T@y\n",
    "beta"
   ]
  },
  {
   "cell_type": "code",
   "execution_count": 241,
   "metadata": {},
   "outputs": [
    {
     "name": "stdout",
     "output_type": "stream",
     "text": [
      "[4.16730612]\n",
      "[0.00597935]\n"
     ]
    }
   ],
   "source": [
    "a = beta[0]\n",
    "b = np.exp(beta[1])\n",
    "print(a)\n",
    "print(b)"
   ]
  },
  {
   "cell_type": "code",
   "execution_count": 242,
   "metadata": {},
   "outputs": [
    {
     "name": "stdout",
     "output_type": "stream",
     "text": [
      "valores aproximados de la funcion:\n",
      "[0.4559168]\n",
      "[3.81858972]\n",
      "[21.98036909]\n",
      "valores aproximados de la funcion real: \n",
      "0.11998749706134393\n",
      "4.788635020801403\n",
      "17.279298435557664\n",
      "\n",
      "Errores absolutos:\n",
      "Error en t = 1.04: [0.3359293]\n",
      "Error en t = 1.55: [0.9700453]\n",
      "Error en t = 1.97: [4.70107066]\n"
     ]
    }
   ],
   "source": [
    "def funcion(t):\n",
    "    return b * np.exp(a * t)\n",
    "\n",
    "def y_exact(t):\n",
    "    return t**2 * (np.exp(t) - np.exp(1))\n",
    "\n",
    "t_values = [1.04, 1.55, 1.97]\n",
    "\n",
    "y_approx = [funcion(t) for t in t_values]\n",
    "print(f\"valores aproximados de la funcion:\")\n",
    "for i in y_approx:\n",
    "    print(i)\n",
    "\n",
    "y_real = [y_exact(t) for t in t_values]\n",
    "print(\"valores aproximados de la funcion real: \")\n",
    "for i in y_real:\n",
    "    print(i)\n",
    "\n",
    "print(\"\\nErrores absolutos:\")\n",
    "for i in range(len(y_approx)):\n",
    "    error = abs(y_approx[i] - y_real[i])\n",
    "    print(f\"Error en t = {t_values[i]}: {error}\")"
   ]
  },
  {
   "cell_type": "markdown",
   "metadata": {
    "id": "DkBTIKAxNl-g"
   },
   "source": [
    "**Nota:** Por favor incluir en el archivo que contenga la solución los script, funciones, gráficas, código y cualquier otro elemento utilizado. No coloque respuestas sin justificación, muestre todo los desarrollos.\n",
    "\n",
    "**Recuerde:** En este curso no se tolerará el plagio. Sin excepción, en caso de presentarse esta situación, a los estudiantes involucrados se les iniciará proceso de investigación, y se actuará en conformidad con el Reglamento de Estudiantes de la Universidad del Norte. El plagio incluye: usar contenidos sin la debida referencia, de manera literal o con mínimos cambios que no alteren el espíritu del texto/código; adquirir con o sin intención, trabajos de terceros y presentarlos parcial o totalmente como propios; presentar trabajos en grupo donde alguno de los integrantes no trabajó o donde no se hubo trabajo en equipo demostrable; entre otras situaciones definidas en el manual de fraude académico de la Universidad del Norte ([pdf](https://guayacan.uninorte.edu.co/normatividad_interna/upload/File/Guia_Prevencion_Fraude%20estudiantes(5).pdf))."
   ]
  }
 ],
 "metadata": {
  "colab": {
   "provenance": []
  },
  "kernelspec": {
   "display_name": "Python 3",
   "language": "python",
   "name": "python3"
  },
  "language_info": {
   "codemirror_mode": {
    "name": "ipython",
    "version": 3
   },
   "file_extension": ".py",
   "mimetype": "text/x-python",
   "name": "python",
   "nbconvert_exporter": "python",
   "pygments_lexer": "ipython3",
   "version": "3.11.2"
  }
 },
 "nbformat": 4,
 "nbformat_minor": 1
}
