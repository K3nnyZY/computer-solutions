{
 "cells": [
  {
   "cell_type": "code",
   "execution_count": 498,
   "metadata": {},
   "outputs": [],
   "source": [
    "import math\n",
    "import sympy as sp\n",
    "from scipy.special import factorial\n",
    "from IPython.display import display, Math, Latex"
   ]
  },
  {
   "attachments": {},
   "cell_type": "markdown",
   "metadata": {},
   "source": [
    "## METODO DE EULER"
   ]
  },
  {
   "attachments": {},
   "cell_type": "markdown",
   "metadata": {},
   "source": [
    "$y' = y-t^2+1$, con $0 \\leq t \\leq 2$ y $y(0) = 0.5$.\n",
    "considere $h = 0.5$ y nos intresa aproximar $y(2)$"
   ]
  },
  {
   "cell_type": "code",
   "execution_count": 499,
   "metadata": {},
   "outputs": [
    {
     "name": "stdout",
     "output_type": "stream",
     "text": [
      "1.25\n",
      "2.25\n",
      "3.375\n",
      "4.4375\n"
     ]
    }
   ],
   "source": [
    "w0 = 0.5\n",
    "h = 0.5\n",
    "f = lambda ti,wi: wi-ti**2+1 \n",
    "\n",
    "for i in range(4):\n",
    "    t0 = 0+i*h\n",
    "    w0 += h*f(t0,w0)\n",
    "    print(w0)"
   ]
  },
  {
   "attachments": {},
   "cell_type": "markdown",
   "metadata": {},
   "source": [
    "$y(2) = (2+1)^{2}-0.5*e^2$"
   ]
  },
  {
   "cell_type": "code",
   "execution_count": 500,
   "metadata": {},
   "outputs": [
    {
     "name": "stdout",
     "output_type": "stream",
     "text": [
      "5.305471950534675\n"
     ]
    }
   ],
   "source": [
    "y2 = (2+1)**2-0.5*math.exp(2)\n",
    "print(y2)"
   ]
  },
  {
   "cell_type": "code",
   "execution_count": 501,
   "metadata": {},
   "outputs": [
    {
     "name": "stdout",
     "output_type": "stream",
     "text": [
      "0.16359938543209193\n"
     ]
    }
   ],
   "source": [
    "error = abs((w0 - y2) / y2)\n",
    "print(error)"
   ]
  },
  {
   "attachments": {},
   "cell_type": "markdown",
   "metadata": {},
   "source": [
    "## METODO DE TAYLOR DE ORDEN SUPERIOR"
   ]
  },
  {
   "attachments": {},
   "cell_type": "markdown",
   "metadata": {},
   "source": [
    "con $n=2$"
   ]
  },
  {
   "cell_type": "code",
   "execution_count": 502,
   "metadata": {},
   "outputs": [],
   "source": [
    "def derivatives(equation, variable, order):\n",
    "    derivatives = [equation]  # Inicializa la lista de derivadas con la ecuación original\n",
    "\n",
    "    for _ in range(1, order):  # Itera desde 1 hasta el número de derivadas deseado - 1\n",
    "        derivative = sp.diff(derivatives[-1], variable)  # Calcula la derivada de la última ecuación en la lista\n",
    "        derivative_subs = derivative.subs(sp.diff(y, variable), equation)  # Sustituye la derivada de y en la ecuación calculada\n",
    "        derivatives.append(derivative_subs)  # Añade la derivada sustituida a la lista de derivadas\n",
    "\n",
    "    for i, d in enumerate(derivatives):  # Itera a través de las derivadas y obtiene el índice (i) y el elemento (d)\n",
    "        display(Math(f\"\\\\frac{{d^{i+1}y}}{{dt  {i+1}}} = {sp.latex(d)}\"))  # Muestra cada derivada en notación matemática usando LaTeX\n",
    "\n",
    "    return derivatives  # Devuelve la lista de derivadas calculadas\n"
   ]
  },
  {
   "cell_type": "code",
   "execution_count": 503,
   "metadata": {},
   "outputs": [],
   "source": [
    "def taylor_method(derivatives, wi, t0, h, n, order):\n",
    "    # Convertimos las funciones de las derivadas en funciones lambda que podemos evaluar\n",
    "    derivative_funcs = [sp.lambdify((t, y), d) for d in derivatives]\n",
    "\n",
    "    # Inicializamos una lista vacía para almacenar los valores de y en cada iteración\n",
    "    wi_values = []\n",
    "\n",
    "    # Realizamos n iteraciones\n",
    "    for _ in range(n):\n",
    "        # Inicializamos el incremento en y para esta iteración\n",
    "        wi_increment = 0\n",
    "        # Calculamos cada término de la serie de Taylor y los sumamos para obtener el incremento en y\n",
    "        for i in range(order):\n",
    "            wi_increment += h**(i+1) / factorial(i+1) * derivative_funcs[i](t0, wi)\n",
    "        # Actualizamos el valor de y y t para la siguiente iteración\n",
    "        wi += wi_increment\n",
    "        t0 += h\n",
    "        # Agregamos el nuevo valor de y a la lista de valores de y\n",
    "        wi_values.append(wi)\n",
    "        \n",
    "    # Devolvemos la lista de valores de y\n",
    "    return wi_values"
   ]
  },
  {
   "cell_type": "code",
   "execution_count": 504,
   "metadata": {},
   "outputs": [
    {
     "data": {
      "text/latex": [
       "$\\displaystyle \\frac{d^1y}{dt  1} = - t^{2} + y{\\left(t \\right)} + 1$"
      ],
      "text/plain": [
       "<IPython.core.display.Math object>"
      ]
     },
     "metadata": {},
     "output_type": "display_data"
    },
    {
     "data": {
      "text/latex": [
       "$\\displaystyle \\frac{d^2y}{dt  2} = - t^{2} - 2 t + y{\\left(t \\right)} + 1$"
      ],
      "text/plain": [
       "<IPython.core.display.Math object>"
      ]
     },
     "metadata": {},
     "output_type": "display_data"
    },
    {
     "data": {
      "text/latex": [
       "$\\displaystyle \\frac{d^3y}{dt  3} = - t^{2} - 2 t + y{\\left(t \\right)} - 1$"
      ],
      "text/plain": [
       "<IPython.core.display.Math object>"
      ]
     },
     "metadata": {},
     "output_type": "display_data"
    },
    {
     "name": "stdout",
     "output_type": "stream",
     "text": [
      "1.4270833333333335\n",
      "2.6456163194444446\n",
      "4.020910192418982\n",
      "5.331289691689574\n"
     ]
    }
   ],
   "source": [
    "t = sp.Symbol('t')\n",
    "y = sp.Function('y')(t)\n",
    "\n",
    "dydt = y - t**2 + 1\n",
    "order = 3\n",
    "derivatives_list = derivatives(dydt, t, order)\n",
    "\n",
    "# Valores iniciales\n",
    "w0 = 0.5  # inicial\n",
    "t0 = 0  # inicial\n",
    "h = 0.5  # pasos\n",
    "tf = 2\n",
    "n = int((tf - t0)/h)   # pasos necesitados \n",
    "\n",
    "# Resolvemos el problema\n",
    "final_wi = taylor_method(derivatives_list, w0, t0, h, n, order)\n",
    "for i in final_wi:\n",
    "    print(i)"
   ]
  },
  {
   "cell_type": "code",
   "execution_count": null,
   "metadata": {},
   "outputs": [],
   "source": [
    "t_array = np.array(t_values)\n",
    "\n",
    "y_array = np.array(approximate_wi)\n",
    "\n",
    "# Aplicamos logaritmo natural a los valores de y\n",
    "y_log = np.log(y_array)\n",
    "\n",
    "# Ajustamos la función lineal usando mínimos cuadrados\n",
    "A = np.vstack([t_array, np.ones(len(t_array))]).T\n",
    "ln_b, a = np.linalg.lstsq(A, y_log, rcond=None)[0]\n",
    "\n",
    "\n",
    "# Obtenemos b a partir de ln_b\n",
    "b = np.exp(ln_b)\n",
    "\n",
    "# Definimos la función aproximada\n",
    "def y_approx(t):\n",
    "    return b * np.exp(a * t)\n",
    "\n",
    "# Evaluamos y_approx en los puntos solicitados\n",
    "t_values_to_evaluate = [1.04, 1.55, 1.97]\n",
    "y_approx_values = [y_approx(t) for t in t_values_to_evaluate]\n",
    "y_exact_values_to_evaluate = [y_exact(t) for t in t_values_to_evaluate]\n",
    "\n",
    "print(\"Valores aproximados:\")\n",
    "for i, val in enumerate(y_approx_values):\n",
    "    print(f\"y({t_values_to_evaluate[i]}) = {val}\")\n",
    "\n",
    "print(\"\\nValores exactos:\")\n",
    "for i, val in enumerate(y_exact_values_to_evaluate):\n",
    "    print(f\"y({t_values_to_evaluate[i]}) = {val}\")\n",
    "\n",
    "print(\"\\nErrores absolutos:\")\n",
    "for i in range(len(y_approx_values)):\n",
    "    error = abs(y_approx_values[i] - y_exact_values_to_evaluate[i])\n",
    "    print(f\"Error en t = {t_values_to_evaluate[i]}: {error}\")"
   ]
  }
 ],
 "metadata": {
  "kernelspec": {
   "display_name": "Python 3",
   "language": "python",
   "name": "python3"
  },
  "language_info": {
   "codemirror_mode": {
    "name": "ipython",
    "version": 3
   },
   "file_extension": ".py",
   "mimetype": "text/x-python",
   "name": "python",
   "nbconvert_exporter": "python",
   "pygments_lexer": "ipython3",
   "version": "3.11.2"
  },
  "orig_nbformat": 4
 },
 "nbformat": 4,
 "nbformat_minor": 2
}
