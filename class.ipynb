{
 "cells": [
  {
   "cell_type": "code",
   "execution_count": 1229,
   "metadata": {},
   "outputs": [],
   "source": [
    "import math\n",
    "import sympy as sp\n",
    "from scipy.special import factorial\n",
    "from IPython.display import display, Math, Latex"
   ]
  },
  {
   "attachments": {},
   "cell_type": "markdown",
   "metadata": {},
   "source": [
    "## METODO DE EULER"
   ]
  },
  {
   "attachments": {},
   "cell_type": "markdown",
   "metadata": {},
   "source": [
    "$y' = y-t^2+1$, con $0 \\leq t \\leq 2$ y $y(0) = 0.5$.\n",
    "considere $h = 0.5$ y nos intresa aproximar $y(2)$"
   ]
  },
  {
   "cell_type": "code",
   "execution_count": 1230,
   "metadata": {},
   "outputs": [
    {
     "name": "stdout",
     "output_type": "stream",
     "text": [
      "1.25\n",
      "2.25\n",
      "3.375\n",
      "4.4375\n"
     ]
    }
   ],
   "source": [
    "w0 = 0.5\n",
    "h = 0.5\n",
    "f = lambda ti,wi: wi-ti**2+1 \n",
    "\n",
    "for i in range(4):\n",
    "    t0 = 0+i*h\n",
    "    w0 += h*f(t0,w0)\n",
    "    print(w0)"
   ]
  },
  {
   "attachments": {},
   "cell_type": "markdown",
   "metadata": {},
   "source": [
    "$y(2) = (2+1)^{2}-0.5*e^2$"
   ]
  },
  {
   "cell_type": "code",
   "execution_count": 1231,
   "metadata": {},
   "outputs": [
    {
     "name": "stdout",
     "output_type": "stream",
     "text": [
      "5.305471950534675\n"
     ]
    }
   ],
   "source": [
    "y2 = (2+1)**2-0.5*math.exp(2)\n",
    "print(y2)"
   ]
  },
  {
   "cell_type": "code",
   "execution_count": 1232,
   "metadata": {},
   "outputs": [
    {
     "name": "stdout",
     "output_type": "stream",
     "text": [
      "0.16359938543209193\n"
     ]
    }
   ],
   "source": [
    "error = abs((w0 - y2) / y2)\n",
    "print(error)"
   ]
  },
  {
   "attachments": {},
   "cell_type": "markdown",
   "metadata": {},
   "source": [
    "## METODO DE TAYLOR DE ORDEN SUPERIOR"
   ]
  },
  {
   "attachments": {},
   "cell_type": "markdown",
   "metadata": {},
   "source": [
    "con $n=2$"
   ]
  },
  {
   "cell_type": "code",
   "execution_count": 1233,
   "metadata": {},
   "outputs": [],
   "source": [
    "# Definición de la función \"derivatives\" que toma 3 argumentos: la ecuación, la variable y el orden de las derivadas.\n",
    "def derivatives(equation, variable, order): \n",
    "    # Inicializa una lista \"derivatives\" con la ecuación original como primer elemento.\n",
    "    derivatives = [equation]                  \n",
    "    # Un bucle for que itera desde 1 hasta el orden-1 de las derivadas solicitadas.\n",
    "    for _ in range(1, order):                 \n",
    "    # Calcula la derivada de la última ecuación en la lista \"derivatives\" con respecto a la variable, y luego suma la ecuación original.\n",
    "        derivative = sp.diff(derivatives[-1], variable) + equation   \n",
    "    # Agrega la derivada calculada a la lista de \"derivatives\".\n",
    "        derivatives.append(derivative)        \n",
    "    # Un bucle for que itera a través de la lista de \"derivatives\" y devuelve el índice (i) y el elemento (d) en cada iteración.\n",
    "    for i, d in enumerate(derivatives):       \n",
    "        # Muestra cada derivada en notación matemática utilizando la biblioteca SymPy y el formato LaTeX.\n",
    "        display(Math(f\"\\\\frac{{d^{i+1}y}}{{dt  {i+1}}} = {sp.latex(d)}\"))    \n",
    "    return derivatives"
   ]
  },
  {
   "cell_type": "code",
   "execution_count": 1234,
   "metadata": {},
   "outputs": [],
   "source": [
    "def taylor_method(derivatives, wi, t0, h, n, orden):\n",
    "\n",
    "    # definimos las variables\n",
    "    y,t = sp.symbols('y t')\n",
    "\n",
    "    # Convertimos las funciones de las derivadas en funciones lambda que podemos evaluar\n",
    "    derivative_funcs = [sp.lambdify((t, y), d) for d in derivatives]\n",
    "\n",
    "    # Inicializamos una lista vacía para almacenar los valores de y en cada iteración\n",
    "    wi_values = []\n",
    "\n",
    "    # Realizamos n iteraciones\n",
    "    for _ in range(n):\n",
    "        # Inicializamos el incremento en y para esta iteración\n",
    "        wi_increment = 0\n",
    "        # Calculamos cada término de la serie de Taylor y los sumamos para obtener el incremento en y\n",
    "        for i in range(orden):\n",
    "            wi_increment += h**(i+1) / factorial(i+1) * derivative_funcs[i](t0, wi)\n",
    "        # Actualizamos el valor de y y t para la siguiente iteración\n",
    "        wi += wi_increment\n",
    "        t0 += h\n",
    "        # Agregamos el nuevo valor de y a la lista de valores de y\n",
    "        wi_values.append(wi)\n",
    "        \n",
    "    # Devolvemos la lista de valores de y\n",
    "    return wi_values\n"
   ]
  },
  {
   "cell_type": "code",
   "execution_count": 1235,
   "metadata": {},
   "outputs": [
    {
     "data": {
      "text/latex": [
       "$\\displaystyle \\frac{d^1y}{dt  1} = - t^{2} + y + 1$"
      ],
      "text/plain": [
       "<IPython.core.display.Math object>"
      ]
     },
     "metadata": {},
     "output_type": "display_data"
    },
    {
     "data": {
      "text/latex": [
       "$\\displaystyle \\frac{d^2y}{dt  2} = - t^{2} - 2 t + y + 1$"
      ],
      "text/plain": [
       "<IPython.core.display.Math object>"
      ]
     },
     "metadata": {},
     "output_type": "display_data"
    },
    {
     "data": {
      "text/latex": [
       "$\\displaystyle \\frac{d^3y}{dt  3} = - t^{2} - 2 t + y - 1$"
      ],
      "text/plain": [
       "<IPython.core.display.Math object>"
      ]
     },
     "metadata": {},
     "output_type": "display_data"
    },
    {
     "name": "stdout",
     "output_type": "stream",
     "text": [
      "1.4270833333333335\n",
      "2.6456163194444446\n",
      "4.020910192418982\n"
     ]
    }
   ],
   "source": [
    "y, t = sp.symbols('y, t')\n",
    "dydt = y - t**2 + 1\n",
    "order = 3\n",
    "derivatives_list = derivatives(dydt, t, order)\n",
    "\n",
    "# Valores iniciales\n",
    "w0 = 0.5\n",
    "t0 = 0\n",
    "h = 0.5\n",
    "n = 3\n",
    "\n",
    "# Resolvemos el problema\n",
    "final_wi = taylor_method(derivatives_list, w0, t0, h, n, order)\n",
    "for i in final_wi:\n",
    "    print(i)"
   ]
  }
 ],
 "metadata": {
  "kernelspec": {
   "display_name": "Python 3",
   "language": "python",
   "name": "python3"
  },
  "language_info": {
   "codemirror_mode": {
    "name": "ipython",
    "version": 3
   },
   "file_extension": ".py",
   "mimetype": "text/x-python",
   "name": "python",
   "nbconvert_exporter": "python",
   "pygments_lexer": "ipython3",
   "version": "3.11.2"
  },
  "orig_nbformat": 4
 },
 "nbformat": 4,
 "nbformat_minor": 2
}
