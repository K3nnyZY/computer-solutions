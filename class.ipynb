{
 "cells": [
  {
   "cell_type": "code",
   "execution_count": 26,
   "metadata": {},
   "outputs": [],
   "source": [
    "import math"
   ]
  },
  {
   "attachments": {},
   "cell_type": "markdown",
   "metadata": {},
   "source": [
    "## METODO DE EULER"
   ]
  },
  {
   "attachments": {},
   "cell_type": "markdown",
   "metadata": {},
   "source": [
    "$y' = y-t^2+1$, con $0 \\leq t \\leq 2$ y $y(0) = 0.5$.\n",
    "considere $h = 0.5$ y nos intresa aproximar $y(2)$"
   ]
  },
  {
   "cell_type": "code",
   "execution_count": 27,
   "metadata": {},
   "outputs": [
    {
     "name": "stdout",
     "output_type": "stream",
     "text": [
      "1.25\n",
      "2.25\n",
      "3.375\n",
      "4.4375\n"
     ]
    }
   ],
   "source": [
    "w0 = 0.5\n",
    "h = 0.5\n",
    "f = lambda ti,wi: wi-ti**2+1 \n",
    "\n",
    "for i in range(4):\n",
    "    t0 = 0+i*h\n",
    "    w0 += h*f(t0,w0)\n",
    "    print(w0)"
   ]
  },
  {
   "attachments": {},
   "cell_type": "markdown",
   "metadata": {},
   "source": [
    "$y(2) = (2+1)^{2}-0.5*e^2$"
   ]
  },
  {
   "cell_type": "code",
   "execution_count": 28,
   "metadata": {},
   "outputs": [
    {
     "name": "stdout",
     "output_type": "stream",
     "text": [
      "5.305471950534675\n"
     ]
    }
   ],
   "source": [
    "y2 = (2+1)**2-0.5*math.exp(2)\n",
    "print(y2)"
   ]
  },
  {
   "cell_type": "code",
   "execution_count": 29,
   "metadata": {},
   "outputs": [
    {
     "name": "stdout",
     "output_type": "stream",
     "text": [
      "0.16359938543209193\n"
     ]
    }
   ],
   "source": [
    "error = abs((w0 - y2) / y2)\n",
    "print(error)"
   ]
  },
  {
   "attachments": {},
   "cell_type": "markdown",
   "metadata": {},
   "source": [
    "## METODO DE TAYLOR DE ORDEN SUPERIOR"
   ]
  },
  {
   "attachments": {},
   "cell_type": "markdown",
   "metadata": {},
   "source": [
    "con $n=2$"
   ]
  },
  {
   "cell_type": "code",
   "execution_count": 30,
   "metadata": {},
   "outputs": [
    {
     "name": "stdout",
     "output_type": "stream",
     "text": [
      "1.4375\n",
      "2.6796875\n"
     ]
    }
   ],
   "source": [
    "dydt = lambda t, y: y - t**2 + 1\n",
    "d2ydt2 = lambda t, y, yp: yp - 2*t\n",
    "\n",
    "\n",
    "y0 = 0.5\n",
    "t0 = 0\n",
    "h = 0.5\n",
    "n = 2\n",
    "\n",
    "y = y0\n",
    "t = t0\n",
    "\n",
    "for _ in range(n):\n",
    "    yp = dydt(t, y)\n",
    "    ypp = d2ydt2(t, y, yp)\n",
    "    y = y + h * yp + 0.5 * h**2 * ypp\n",
    "    t += h\n",
    "    print(y)"
   ]
  }
 ],
 "metadata": {
  "kernelspec": {
   "display_name": "Python 3",
   "language": "python",
   "name": "python3"
  },
  "language_info": {
   "codemirror_mode": {
    "name": "ipython",
    "version": 3
   },
   "file_extension": ".py",
   "mimetype": "text/x-python",
   "name": "python",
   "nbconvert_exporter": "python",
   "pygments_lexer": "ipython3",
   "version": "3.11.2"
  },
  "orig_nbformat": 4
 },
 "nbformat": 4,
 "nbformat_minor": 2
}
