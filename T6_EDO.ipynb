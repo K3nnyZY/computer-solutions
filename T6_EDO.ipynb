{
  "cells": [
    {
      "attachments": {},
      "cell_type": "markdown",
      "metadata": {
        "id": "P5-s9tgzNfm9"
      },
      "source": [
        "# Soluciones Computacionales a Problemas de Ingeniería IST4360\n",
        "\n",
        "\n",
        "\n",
        "\n",
        "*   Estudiantes: Kenny Zhu, Samir Mercado\n",
        "*   Código: 200164380, 200161553\n"
      ]
    },
    {
      "cell_type": "code",
      "execution_count": 164,
      "metadata": {},
      "outputs": [],
      "source": [
        "import sympy as sp"
      ]
    },
    {
      "cell_type": "markdown",
      "metadata": {
        "id": "vtEFqqUKItQx"
      },
      "source": [
        "Un proyectil de masa $m = 0.11 kg$ disparado verticalmente hacia arriba con una velocidad inicial $v(0) = 8 m/s$ se frena debido a la fuerza de la gravedad, $F_g = −mg$, y debido a la resistencia del aire, $F_r = −kv|v|$ , donde $g = 9.8 m/s^2$ y $k = 0.002 kg/m$. La ecuación diferencial para la velocidad $v$ viene dada por\n",
        "$$mv'=-mg-kv|v|$$\n",
        "\n",
        "\n",
        "\n",
        "1.   Encuentre la velocidad después de $0.1,\\, 0.2,\\, ...,\\,1.0\\,s$.\n",
        "2.   Al décimo de segundo más cercano, determine cuándo el proyectil alcanza su altura máxima y\n",
        "comienza a caer.\n",
        "\n"
      ]
    },
    {
      "cell_type": "code",
      "execution_count": 165,
      "metadata": {},
      "outputs": [],
      "source": [
        "# metodo de taylor primer orden (metodo de euler)\n",
        "def taylor_method(derivative_func, y0, t0, h, n):\n",
        "    y_values = []\n",
        "\n",
        "    for _ in range(n):\n",
        "        y_increment = h * derivative_func(t0, y0)\n",
        "        y0 += y_increment\n",
        "        t0 += h\n",
        "        y_values.append(y0)\n",
        "\n",
        "    return y_values"
      ]
    },
    {
      "cell_type": "code",
      "execution_count": 166,
      "metadata": {},
      "outputs": [],
      "source": [
        "m = 0.11  # masa (kg)\n",
        "v0 = 8.0  # velocidad inicial (m/s)\n",
        "g = 9.8  # gravedad (m/s)\n",
        "k = 0.002  # constante de resistencia del aire (kg/m)\n",
        "h = 0.1 # pasos\n",
        "t0 = 0 # tiempo inicial\n",
        "tf = 1 # tiempo final\n",
        "n = int((tf - t0) / h) "
      ]
    },
    {
      "cell_type": "code",
      "execution_count": 167,
      "metadata": {},
      "outputs": [
        {
          "name": "stdout",
          "output_type": "stream",
          "text": [
            "t = 0.1 s, v = 6.90364 m\\s\n",
            "t = 0.2 s, v = 5.83698 m\\s\n",
            "t = 0.3 s, v = 4.79504 m\\s\n",
            "t = 0.4 s, v = 3.77323 m\\s\n",
            "t = 0.5 s, v = 2.76735 m\\s\n",
            "t = 0.6 s, v = 1.77342 m\\s\n",
            "t = 0.7 s, v = 0.78770 m\\s\n",
            "t = 0.8 s, v = -0.19343 m\\s\n",
            "t = 0.9 s, v = -1.17336 m\\s\n",
            "t = 1.0 s, v = -2.15085 m\\s\n",
            "El proyectil alcanza su altura máxima y comienza a caer a los 0.8 s\n"
          ]
        }
      ],
      "source": [
        "t, v = sp.symbols('t v')\n",
        "\n",
        "dydt = -g - k * v * abs(v) / m\n",
        "\n",
        "funcion = sp.lambdify((t, v), dydt)\n",
        "\n",
        "# Tiempos en los que queremos calcular la velocidad\n",
        "tiempos = [0.1, 0.2, 0.3, 0.4, 0.5, 0.6, 0.7, 0.8, 0.9, 1]\n",
        "\n",
        "# Resolvemos la ecuación diferencial usando el método de Taylor\n",
        "velocidad = taylor_method(funcion, v0, t0, h, n)\n",
        "\n",
        "# Imprimimos las velocidades en los tiempos especificados\n",
        "for t, v in zip(tiempos, velocidad):\n",
        "    print(f\"t = {t:.1f} s, v = {v:.5f} m\\s\")\n",
        "\n",
        "# Determinamos cuándo el proyectil alcanza su altura máxima y comienza a caer\n",
        "for i in range(len(tiempos)):\n",
        "    if velocidad[i] < 0:\n",
        "        altura_maxima = tiempos[i]\n",
        "        break\n",
        "\n",
        "print(f\"El proyectil alcanza su altura máxima y comienza a caer a los {altura_maxima} s\")"
      ]
    }
  ],
  "metadata": {
    "colab": {
      "provenance": []
    },
    "kernelspec": {
      "display_name": "Python 3",
      "name": "python3"
    },
    "language_info": {
      "codemirror_mode": {
        "name": "ipython",
        "version": 3
      },
      "file_extension": ".py",
      "mimetype": "text/x-python",
      "name": "python",
      "nbconvert_exporter": "python",
      "pygments_lexer": "ipython3",
      "version": "3.11.2"
    }
  },
  "nbformat": 4,
  "nbformat_minor": 0
}
