{
  "cells": [
    {
      "attachments": {},
      "cell_type": "markdown",
      "metadata": {
        "id": "fY4vIefnNmt4"
      },
      "source": [
        "# Soluciones Computacionales a Problemas de Ingeniería IST4360\n",
        "\n",
        "\n",
        "\n",
        "\n",
        "*   Estudiantes: Kenny Zhu Ye, Samir Mercado\n",
        "*   Código: 200164380, 200161553\n"
      ]
    },
    {
      "cell_type": "code",
      "execution_count": 374,
      "metadata": {},
      "outputs": [],
      "source": [
        "import numpy as np\n",
        "import sympy as sp\n",
        "from sympy.printing import latex\n",
        "from IPython.display import display, Math, Latex"
      ]
    },
    {
      "attachments": {},
      "cell_type": "markdown",
      "metadata": {
        "id": "Ot-ang6OMdhF"
      },
      "source": [
        "## Ejercicio 1\n",
        "Haciendo uso de diferencias divididas construya los polinomios interpoladores de primer, segundo y tercer grado para los puntos dados. Para el valor especificado aproxime el resultado usando cada uno de los polinomios.\n",
        "\n",
        "\n",
        "*   $f(8.4)$, si $f(8.1)=17.56492$, $f(8.3)=17.56492$, $f(8.6)=18.50515$ y $f(8.7)=18.82091$\n",
        "*   $f(0.9)$, si $f(0.6)=-0.17694460$, $f(0.7)=0.01375227$, $f(0.8)=0.22363362$ y $f(1.0)=0.658009197$\n"
      ]
    },
    {
      "cell_type": "code",
      "execution_count": 375,
      "metadata": {},
      "outputs": [],
      "source": [
        "# La función toma dos listas, x e y, que representan los puntos conocidos de la función a interpolar.\n",
        "def divided_differences(x, y):\n",
        "    # n es el número de puntos conocidos de la función, que es igual a la longitud de la lista y.\n",
        "    n = len(y)\n",
        "    # coef es una lista de coeficientes que se van a calcular y que corresponden al polinomio interpolador de Newton.\n",
        "    coef = [0] * n\n",
        "    # En la primera posición de coef se asigna el primer valor de la lista y.\n",
        "    coef[0] = y[0]\n",
        "\n",
        "    # Se utiliza un bucle for anidado para calcular los coeficientes restantes.\n",
        "    # El bucle exterior itera sobre los valores j del 1 al n-1, que corresponden al grado del polinomio interpolador.\n",
        "    for j in range(1, n):\n",
        "        # El bucle interior itera sobre los índices de la lista y en orden descendente.\n",
        "        # Para cada iteración, se calcula la diferencia dividida y se actualiza el valor de la lista y.\n",
        "        for i in range(n - 1, j - 1, -1):\n",
        "            y[i] = (y[i] - y[i - 1]) / (x[i] - x[i - j])\n",
        "        # El coeficiente correspondiente a j se guarda en la lista coef.\n",
        "        coef[j] = y[j]\n",
        "\n",
        "    # Finalmente, se devuelve la lista coef con los coeficientes calculados.\n",
        "    return coef\n",
        "\n",
        "\n",
        "# La función recibe los coeficientes del polinomio interpolador, una lista x_data con los puntos conocidos de la función,\n",
        "# y un valor x en el cual se desea evaluar el polinomio interpolador.\n",
        "def newton_polynomial(coef, x_data, x):\n",
        "    # n es el grado del polinomio interpolador, que se calcula como la longitud de la lista coef menos 1.\n",
        "    n = len(coef) - 1\n",
        "    # result es la variable que almacenará el resultado de la evaluación del polinomio interpolador.\n",
        "    result = coef[n]\n",
        "\n",
        "    # Se utiliza un bucle for para calcular el valor del polinomio interpolador en x.\n",
        "    # El bucle itera sobre los coeficientes del polinomio interpolador en orden descendente,\n",
        "    # y utiliza la fórmula de Newton para calcular el valor del polinomio en x.\n",
        "    for i in range(n - 1, -1, -1):\n",
        "        result = result * (x - x_data[i]) + coef[i]\n",
        "\n",
        "    # Finalmente, se devuelve el valor del polinomio interpolador evaluado en x.\n",
        "    return result"
      ]
    },
    {
      "cell_type": "code",
      "execution_count": 376,
      "metadata": {},
      "outputs": [],
      "source": [
        "# Caso 1\n",
        "x_data1 = [8.1, 8.3, 8.6, 8.7]\n",
        "y_data1 = [17.56492, 17.56492, 18.50515, 18.82091]\n",
        "coef1 = divided_differences(x_data1, y_data1.copy())\n",
        "\n",
        "# Polinomios interpoladores\n",
        "P1_1 = lambda x: newton_polynomial(coef1[:2], x_data1[:1], x)\n",
        "P2_1 = lambda x: newton_polynomial(coef1[:3], x_data1[:2], x)\n",
        "P3_1 = lambda x: newton_polynomial(coef1, x_data1, x)\n",
        "\n",
        "# Aproximaciones\n",
        "f_8_4_P1 = P1_1(8.4)\n",
        "f_8_4_P2 = P2_1(8.4)\n",
        "f_8_4_P3 = P3_1(8.4)\n",
        "\n",
        "# Caso 2\n",
        "x_data2 = [0.6, 0.7, 0.8, 1.0]\n",
        "y_data2 = [-0.17694460, 0.01375227, 0.22363362, 0.658009197]\n",
        "coef2 = divided_differences(x_data2, y_data2.copy())\n",
        "\n",
        "# Polinomios interpoladores\n",
        "P1_2 = lambda x: newton_polynomial(coef2[:2], x_data2[:1], x)\n",
        "P2_2 = lambda x: newton_polynomial(coef2[:3], x_data2[:2], x)\n",
        "P3_2 = lambda x: newton_polynomial(coef2, x_data2, x)\n",
        "\n",
        "# Aproximaciones\n",
        "f_0_9_P1 = P1_2(0.9)\n",
        "f_0_9_P2 = P2_2(0.9)\n",
        "f_0_9_P3 = P3_2(0.9)"
      ]
    },
    {
      "cell_type": "code",
      "execution_count": 377,
      "metadata": {},
      "outputs": [
        {
          "data": {
            "text/latex": [
              "Aproximacion 1: $f(8.4)$:"
            ],
            "text/plain": [
              "<IPython.core.display.Latex object>"
            ]
          },
          "metadata": {},
          "output_type": "display_data"
        },
        {
          "data": {
            "text/latex": [
              "$\\displaystyle P1(x) = 17.56492, \\quad f(8.4) \\approx 17.56492$"
            ],
            "text/plain": [
              "<IPython.core.display.Math object>"
            ]
          },
          "metadata": {},
          "output_type": "display_data"
        },
        {
          "data": {
            "text/latex": [
              "$\\displaystyle P2(x) = 17.56492 + (6.2682)(x - 8.1)(x - 8.3), \\quad f(8.4) \\approx 17.75297$"
            ],
            "text/plain": [
              "<IPython.core.display.Math object>"
            ]
          },
          "metadata": {},
          "output_type": "display_data"
        },
        {
          "data": {
            "text/latex": [
              "$\\displaystyle P3(x) = 17.56492 + (6.2682)(x - 8.1)(x - 8.3) + (-10.34908)(x - 8.1)(x - 8.3)(x - 8.6), \\quad f(8.4) \\approx 17.81506$"
            ],
            "text/plain": [
              "<IPython.core.display.Math object>"
            ]
          },
          "metadata": {},
          "output_type": "display_data"
        },
        {
          "data": {
            "text/latex": [
              "Aproximacion 2: $f(0.9)$:"
            ],
            "text/plain": [
              "<IPython.core.display.Latex object>"
            ]
          },
          "metadata": {},
          "output_type": "display_data"
        },
        {
          "data": {
            "text/latex": [
              "$\\displaystyle P1(x) = -0.17694460 + (1.90696870)(x - 0.6), \\quad f(0.9) \\approx 0.39514601$"
            ],
            "text/plain": [
              "<IPython.core.display.Math object>"
            ]
          },
          "metadata": {},
          "output_type": "display_data"
        },
        {
          "data": {
            "text/latex": [
              "$\\displaystyle P2(x) = -0.17694460 + (1.90696870)(x - 0.6) + (0.95922400)(x - 0.6)(x - 0.7), \\quad f(0.9) \\approx 0.45269945$"
            ],
            "text/plain": [
              "<IPython.core.display.Math object>"
            ]
          },
          "metadata": {},
          "output_type": "display_data"
        },
        {
          "data": {
            "text/latex": [
              "$\\displaystyle P3(x) = -0.17694460 + (1.90696870)(x - 0.6) + (0.95922400)(x - 0.6)(x - 0.7) + (-1.78919012)(x - 0.6)(x - 0.7)(x - 0.8), \\quad f(0.9) \\approx 0.44196431$"
            ],
            "text/plain": [
              "<IPython.core.display.Math object>"
            ]
          },
          "metadata": {},
          "output_type": "display_data"
        }
      ],
      "source": [
        "# construccion de los polinomios\n",
        "\n",
        "# Caso 1\n",
        "display(Latex(\"Aproximacion 1: $f(8.4)$:\"))\n",
        "\n",
        "P1_1_latex = f\"P1(x) = {coef1[0]:.5f}, \\\\quad f(8.4) \\\\approx {f_8_4_P1:.5f}\"\n",
        "display(Math(P1_1_latex))\n",
        "\n",
        "P2_1_latex = f\"P2(x) = {coef1[0]:.5f} + ({coef1[2]:.4f})(x - {x_data1[0]:.1f})(x - {x_data1[1]:.1f}), \\\\quad f(8.4) \\\\approx {f_8_4_P2:.5f}\"\n",
        "display(Math(P2_1_latex))\n",
        "\n",
        "P3_1_latex = f\"P3(x) = {coef1[0]:.5f} + ({coef1[2]:.4f})(x - {x_data1[0]:.1f})(x - {x_data1[1]:.1f}) + ({coef1[3]:.5f})(x - {x_data1[0]:.1f})(x - {x_data1[1]:.1f})(x - {x_data1[2]:.1f}), \\\\quad f(8.4) \\\\approx {f_8_4_P3:.5f}\"\n",
        "display(Math(P3_1_latex))\n",
        "\n",
        "# Caso 2\n",
        "display(Latex(\"Aproximacion 2: $f(0.9)$:\"))\n",
        "\n",
        "P1_2_latex = f\"P1(x) = {coef2[0]:.8f} + ({coef2[1]:.8f})(x - {x_data2[0]:.1f}), \\\\quad f(0.9) \\\\approx {f_0_9_P1:.8f}\"\n",
        "display(Math(P1_2_latex))\n",
        "\n",
        "P2_2_latex = f\"P2(x) = {coef2[0]:.8f} + ({coef2[1]:.8f})(x - {x_data2[0]:.1f}) + ({coef2[2]:.8f})(x - {x_data2[0]:.1f})(x - {x_data2[1]:.1f}), \\\\quad f(0.9) \\\\approx {f_0_9_P2:.8f}\"\n",
        "display(Math(P2_2_latex))\n",
        "\n",
        "P3_2_latex = f\"P3(x) = {coef2[0]:.8f} + ({coef2[1]:.8f})(x - {x_data2[0]:.1f}) + ({coef2[2]:.8f})(x - {x_data2[0]:.1f})(x - {x_data2[1]:.1f}) + ({coef2[3]:.8f})(x - {x_data2[0]:.1f})(x - {x_data2[1]:.1f})(x - {x_data2[2]:.1f}), \\\\quad f(0.9) \\\\approx {f_0_9_P3:.8f}\"\n",
        "display(Math(P3_2_latex))"
      ]
    },
    {
      "cell_type": "markdown",
      "metadata": {
        "id": "FLnQiWbNMud-"
      },
      "source": [
        "## Ejercicio 2\n",
        "\n",
        "\n",
        "*   Construya el polinomio interpolador de cuarto grado para los puntos no igualmente espaciados que se muestran en la tabla a continuación\n",
        "\n",
        "![image.png](data:image/png;base64,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)\n",
        "*   Añada el punto $f(1.1)=-3.99583$ y construya el polinomio interpolador de quinto orden."
      ]
    },
    {
      "cell_type": "code",
      "execution_count": 378,
      "metadata": {},
      "outputs": [],
      "source": [
        "def lagrange_polynomial(x_values, y_values):\n",
        "    x = sp.Symbol('x')\n",
        "    n = len(x_values)\n",
        "    polynomial = 0\n",
        "\n",
        "    for i in range(n):\n",
        "        L_i = 1\n",
        "        for j in range(n):\n",
        "            if i != j:\n",
        "                L_i *= (x - x_values[j]) / (x_values[i] - x_values[j])\n",
        "        polynomial += y_values[i] * L_i\n",
        "\n",
        "    return sp.simplify(polynomial)"
      ]
    },
    {
      "cell_type": "code",
      "execution_count": 379,
      "metadata": {},
      "outputs": [
        {
          "name": "stdout",
          "output_type": "stream",
          "text": [
            "Polinomio interpolador de cuarto grado: \n"
          ]
        },
        {
          "data": {
            "text/latex": [
              "$\\displaystyle P4(x) = 300.063015873016 x^{4} - 599.848015873016 x^{3} + 381.503514285714 x^{2} - 85.4002342857143 x - 0.6$"
            ],
            "text/plain": [
              "<IPython.core.display.Math object>"
            ]
          },
          "metadata": {},
          "output_type": "display_data"
        },
        {
          "name": "stdout",
          "output_type": "stream",
          "text": [
            "Construyamos el polinomio interpolador de quinto orden: \n"
          ]
        },
        {
          "data": {
            "text/latex": [
              "$\\displaystyle P5(x) = - 272.713113275613 x^{5} + 845.489242424242 x^{4} - 946.193669733045 x^{3} + 460.044890909091 x^{2} - 90.3090703246753 x - 0.6$"
            ],
            "text/plain": [
              "<IPython.core.display.Math object>"
            ]
          },
          "metadata": {},
          "output_type": "display_data"
        }
      ],
      "source": [
        "# Puntos dados\n",
        "x_values = [0.0, 0.1, 0.3, 0.6, 1.0]\n",
        "y_values = [-0.6, -5.89483, -5.65014, -5.17788, -4.28172]\n",
        "\n",
        "# Polinomio interpolador de cuarto grado\n",
        "P4 = lagrange_polynomial(x_values, y_values)\n",
        "\n",
        "# Mostrar P4\n",
        "print(\"Polinomio interpolador de cuarto grado: \")\n",
        "display(Math(f\"P4(x) = {latex(P4)}\"))\n",
        "\n",
        "# Añadir el punto f(1.1) = -3.99583\n",
        "x_values.append(1.1)\n",
        "y_values.append(-3.99583)\n",
        "\n",
        "# Polinomio interpolador de quinto grado\n",
        "P5 = lagrange_polynomial(x_values, y_values)\n",
        "\n",
        "# Mostrar P5\n",
        "print(\"Construyamos el polinomio interpolador de quinto orden añadiendo f(1.1) = -3.99583: \")\n",
        "display(Math(f\"P5(x) = {latex(P5)}\"))"
      ]
    },
    {
      "cell_type": "markdown",
      "metadata": {
        "id": "nT34A0xmNQZe"
      },
      "source": [
        "## Ejercicio 3\n",
        "Haciendo uso de la fórmula del trapecio, regla de Simpson y regla de Simpson 3/8 evalue las siguientes integrales ¿qué puede concluir?\n",
        "\n",
        "*   $\\int_{-0.25}^{0.25}(\\cos x)^{2} d x$\n",
        "*   $\\int_{-0.5}^{0} x \\ln (x+1) d x$\n",
        "*   $\\int_{0.75}^{1.3}\\left((\\sin x)^{2}-2 x \\sin x+1\\right) d x$\n",
        "*   $\\int_{e}^{e+1} \\frac{1}{x \\ln x} d x$\n"
      ]
    },
    {
      "cell_type": "code",
      "execution_count": 380,
      "metadata": {},
      "outputs": [],
      "source": [
        "x = sp.symbols('x')\n",
        "\n",
        "# Funciones a integrar\n",
        "f1 = sp.cos(x)**2\n",
        "f2 = x * sp.log(x + 1)\n",
        "f3 = sp.sin(x)**2 - 2 * x * sp.sin(x) + 1\n",
        "f4 = 1 / (x * sp.log(x))\n",
        "\n",
        "functions = [f1, f2, f3, f4]\n",
        "\n",
        "# Límites de integración\n",
        "limits = [\n",
        "    (-0.25, 0.25),\n",
        "    (-0.5, 0),\n",
        "    (0.75, 1.3),\n",
        "    (np.e, np.e + 1)\n",
        "]"
      ]
    },
    {
      "cell_type": "code",
      "execution_count": 381,
      "metadata": {},
      "outputs": [],
      "source": [
        "# Regla del trapecio\n",
        "def trapezoidal_rule(f, a, b, n):\n",
        "    h = (b - a) / n  # Calcula el tamaño del paso (h) dividiendo el intervalo en n partes iguales\n",
        "    result = 0.5 * (f.subs(x, a) + f.subs(x, b))  # Inicializa el resultado sumando los valores de la función en los límites a y b, multiplicado por 0.5\n",
        "    for i in range(1, n):  # Itera sobre los puntos intermedios del intervalo, excluyendo a y b\n",
        "        result += f.subs(x, a + i * h)  # Suma el valor de la función en el punto actual al resultado\n",
        "    result *= h  # Multiplica el resultado acumulado por el tamaño del paso (h)\n",
        "    return result\n",
        "\n",
        "# Regla de Simpson 1/3\n",
        "def simpson_rule(f, a, b, n):\n",
        "    h = (b - a) / n  # Calcula el tamaño del paso (h) dividiendo el intervalo en n partes iguales\n",
        "    result = f.subs(x, a) + f.subs(x, b)  # Inicializa el resultado sumando los valores de la función en los límites a y b\n",
        "    for i in range(1, n, 2):  # Itera sobre los puntos intermedios impares del intervalo, excluyendo a y b\n",
        "        result += 4 * f.subs(x, a + i * h)  # Suma el valor de la función en el punto actual, multiplicado por 4, al resultado\n",
        "    for i in range(2, n-1, 2):  # Itera sobre los puntos intermedios pares del intervalo, excluyendo a y b\n",
        "        result += 2 * f.subs(x, a + i * h)  # Suma el valor de la función en el punto actual, multiplicado por 2, al resultado\n",
        "    result *= h / 3  # Multiplica el resultado acumulado por el tamaño del paso (h) dividido por 3\n",
        "    return result \n",
        "\n",
        "# Regla de Simpson 3/8\n",
        "def simpson_3_8_rule(f, a, b, n):\n",
        "    if n % 3 != 0:  # Verifica si n es múltiplo de 3, ya que la regla de Simpson 3/8 requiere que lo sea\n",
        "        return \"n debe ser multiplo de 3\"\n",
        "    h = (b - a) / n  # Calcula el tamaño del paso (h) dividiendo el intervalo en n partes iguales\n",
        "    result = f.subs(x, a) + f.subs(x, b)  # Inicializa el resultado sumando los valores de la función en los límites a y b\n",
        "    for i in range(1, n, 3):  # Itera sobre los puntos intermedios del intervalo con un paso de 3, excluyendo a y b\n",
        "        result += 3 * (f.subs(x, a + i * h) + f.subs(x, a + (i + 1) * h))  # Suma el valor de la función en los puntos actuales (i e i+1), multiplicado por 3, al resultado\n",
        "    for i in range(3, n-2, 3):  # Itera sobre los puntos intermedios del intervalo con un paso de 3, comenzando desde el tercer punto y excluyendo a, b y el último punto antes de b\n",
        "        result += 2 * f.subs(x, a + i * h)  # Suma el valor de la función en el punto actual, multiplicado por 2, al resultado\n",
        "    result *= 3 * h / 8  # Multiplica el resultado acumulado por el tamaño del paso (h) multiplicado por 3 y dividido por 8\n",
        "    return result"
      ]
    },
    {
      "cell_type": "code",
      "execution_count": 382,
      "metadata": {},
      "outputs": [
        {
          "data": {
            "text/latex": [
              "$\\displaystyle \\text{Integral 1: } \\int\\limits_{-0.25}^{0.25} \\cos^{2}{\\left(x \\right)}\\, dx$"
            ],
            "text/plain": [
              "<IPython.core.display.Math object>"
            ]
          },
          "metadata": {},
          "output_type": "display_data"
        },
        {
          "name": "stdout",
          "output_type": "stream",
          "text": [
            "  Trapezoidal: 0.489574030576162\n",
            "  Simpson 13: 0.489712833578692\n",
            "  Simpson 38: 0.489712914044185\n",
            "\n"
          ]
        },
        {
          "data": {
            "text/latex": [
              "$\\displaystyle \\text{Integral 2: } \\int\\limits_{-0.5}^{0} x \\log{\\left(x + 1 \\right)}\\, dx$"
            ],
            "text/plain": [
              "<IPython.core.display.Math object>"
            ]
          },
          "metadata": {},
          "output_type": "display_data"
        },
        {
          "name": "stdout",
          "output_type": "stream",
          "text": [
            "  Trapezoidal: 0.0528146939038572\n",
            "  Simpson 13: 0.0525700891271133\n",
            "  Simpson 38: 0.0525704353559308\n",
            "\n"
          ]
        },
        {
          "data": {
            "text/latex": [
              "$\\displaystyle \\text{Integral 3: } \\int\\limits_{0.75}^{1.3} \\left(- 2 x \\sin{\\left(x \\right)} + \\sin^{2}{\\left(x \\right)} + 1\\right)\\, dx$"
            ],
            "text/plain": [
              "<IPython.core.display.Math object>"
            ]
          },
          "metadata": {},
          "output_type": "display_data"
        },
        {
          "name": "stdout",
          "output_type": "stream",
          "text": [
            "  Trapezoidal: -0.0204895172790647\n",
            "  Simpson 13: -0.0203767170369430\n",
            "  Simpson 38: -0.0203766182194500\n",
            "\n"
          ]
        },
        {
          "data": {
            "text/latex": [
              "$\\displaystyle \\text{Integral 4: } \\int\\limits_{2.71828182845905}^{3.71828182845905} \\frac{1}{x \\log{\\left(x \\right)}}\\, dx$"
            ],
            "text/plain": [
              "<IPython.core.display.Math object>"
            ]
          },
          "metadata": {},
          "output_type": "display_data"
        },
        {
          "name": "stdout",
          "output_type": "stream",
          "text": [
            "  Trapezoidal: 0.272614339296861\n",
            "  Simpson 13: 0.272514025718998\n",
            "  Simpson 38: 0.272514205186992\n",
            "\n"
          ]
        }
      ],
      "source": [
        "n = 12\n",
        "\n",
        "for i, (f, (a, b)) in enumerate(zip(functions, limits),1):\n",
        "    \n",
        "    integral_repr = sp.latex(sp.Integral(f, (x, a, b)))  # Representación en LaTeX de la integral\n",
        "    trapezoidal = trapezoidal_rule(f, a, b, n)\n",
        "    simpson = simpson_rule(f, a, b, n)\n",
        "    simpson_3_8 = simpson_3_8_rule(f, a, b, n)\n",
        "    \n",
        "    display(Math(f\"\\\\text{{Integral {i}: }} {integral_repr}\"))\n",
        "    print(f\"  Trapezoidal: {trapezoidal}\")\n",
        "    print(f\"  Simpson 13: {simpson}\")\n",
        "    print(f\"  Simpson 38: {simpson_3_8}\")\n",
        "    print()"
      ]
    },
    {
      "attachments": {},
      "cell_type": "markdown",
      "metadata": {},
      "source": [
        "Luego de evaluar las integrales dadas usando las tres reglas de aproximación mencionadas, podemos notar que la regla de Simpson 3/8 ofrece una mayor precisión en la aproximación de las integrales en comparación con las otras dos reglas. Esto es especialmente evidente cuando se utiliza un número pequeño de subintervalos para la aproximación.\n",
        "\n",
        "En conclusión, podemos decir que la elección de la regla de aproximación dependerá de la precisión requerida en la aproximación de la integral y del número de subintervalos que se deseen utilizar. En general, la regla de Simpson 3/8 es una buena opción para obtener una aproximación precisa de la integral."
      ]
    }
  ],
  "metadata": {
    "colab": {
      "provenance": []
    },
    "kernelspec": {
      "display_name": "Python 3",
      "name": "python3"
    },
    "language_info": {
      "codemirror_mode": {
        "name": "ipython",
        "version": 3
      },
      "file_extension": ".py",
      "mimetype": "text/x-python",
      "name": "python",
      "nbconvert_exporter": "python",
      "pygments_lexer": "ipython3",
      "version": "3.11.2"
    }
  },
  "nbformat": 4,
  "nbformat_minor": 0
}
