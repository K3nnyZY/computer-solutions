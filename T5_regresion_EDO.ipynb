{
  "nbformat": 4,
  "nbformat_minor": 0,
  "metadata": {
    "colab": {
      "provenance": []
    },
    "kernelspec": {
      "name": "python3",
      "display_name": "Python 3"
    },
    "language_info": {
      "name": "python"
    }
  },
  "cells": [
    {
      "cell_type": "code",
      "source": [
        "# libraries to use"
      ],
      "metadata": {
        "id": "avxoiezsNowF"
      },
      "execution_count": null,
      "outputs": []
    },
    {
      "cell_type": "markdown",
      "source": [
        "# Soluciones Computacionales a Problemas de Ingeniería IST4360\n",
        "\n",
        "\n",
        "\n",
        "\n",
        "*   Estudiantes:\n",
        "*   Código:\n"
      ],
      "metadata": {
        "id": "P5-s9tgzNfm9"
      }
    },
    {
      "cell_type": "markdown",
      "source": [
        "Dado el problema de valor inicial\n",
        "$$y'=\\frac{2}{t}y+t^2e^t,\\, 1\\leq t\\leq2,\\, y(1)=0,$$\n",
        "con solución exacta $y(t)=t^2(e^t-e)$:\n",
        "\n",
        "\n",
        "\n",
        "1.   Encuentre $n$ para el método de Taylor tal que el error absoluto sea del orden de $10^{-6}$. Use $h=0.1$\n",
        "2.   Use los valores generados en el inciso anterior para el $n$ encontrado y una aproximación de la forma $be^{ax}$ por mínimos cuadrados para aproximar $y$ en los siguientes valores, compare con los valores reales de $y$.\n",
        "\n",
        "  *   $y(1.04)$\n",
        "  *   $y(1.55)$\n",
        "  *   $y(1.97)$\n",
        "\n",
        "\n",
        "\n",
        "\n",
        "\n",
        "\n",
        "\n",
        "\n",
        "\n",
        "\n",
        "\n",
        "\n",
        "\n",
        "\n"
      ],
      "metadata": {
        "id": "pCeHFYTxISjK"
      }
    },
    {
      "cell_type": "code",
      "execution_count": null,
      "metadata": {
        "id": "w3_Hzc91INUA"
      },
      "outputs": [],
      "source": [
        "# Your code here"
      ]
    },
    {
      "cell_type": "markdown",
      "source": [
        "**Nota:** Por favor incluir en el archivo que contenga la solución los script, funciones, gráficas, código y cualquier otro elemento utilizado. No coloque respuestas sin justificación, muestre todo los desarrollos.\n",
        "\n",
        "**Recuerde:** En este curso no se tolerará el plagio. Sin excepción, en caso de presentarse esta situación, a los estudiantes involucrados se les iniciará proceso de investigación, y se actuará en conformidad con el Reglamento de Estudiantes de la Universidad del Norte. El plagio incluye: usar contenidos sin la debida referencia, de manera literal o con mínimos cambios que no alteren el espíritu del texto/código; adquirir con o sin intención, trabajos de terceros y presentarlos parcial o totalmente como propios; presentar trabajos en grupo donde alguno de los integrantes no trabajó o donde no se hubo trabajo en equipo demostrable; entre otras situaciones definidas en el manual de fraude académico de la Universidad del Norte ([pdf](https://guayacan.uninorte.edu.co/normatividad_interna/upload/File/Guia_Prevencion_Fraude%20estudiantes(5).pdf))."
      ],
      "metadata": {
        "id": "DkBTIKAxNl-g"
      }
    }
  ]
}