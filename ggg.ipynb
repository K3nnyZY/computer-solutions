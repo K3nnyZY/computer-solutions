{
 "cells": [
  {
   "cell_type": "code",
   "execution_count": 155,
   "metadata": {},
   "outputs": [],
   "source": [
    "import sympy as sp\n",
    "from sympy import parse_expr\n",
    "import math\n",
    "import matplotlib.pyplot as plt\n",
    "import numpy as np"
   ]
  },
  {
   "attachments": {},
   "cell_type": "markdown",
   "metadata": {},
   "source": [
    "# Soluciones Computacionales a Problemas de Ingeniería IST4360\n",
    "\n",
    "\n",
    "\n",
    "\n",
    "*   Estudiantes: Juan Sánchez, José García\n",
    "*   Código: 200159516\n",
    "\n"
   ]
  },
  {
   "attachments": {},
   "cell_type": "markdown",
   "metadata": {},
   "source": [
    "## Ejercicio 1\n",
    "La función $f(x) = \\tan (\\pi x) -6$ tiene una raíz en $(1/\\pi)\\arctan (6)$. Escoja tres métodos de su preferencia, fije los valores iniciales a usar en cada uno y haga un máximo de 10 iteraciones. ¿Cuál de los métodos se desempeña mejor?¿Por qué?"
   ]
  },
  {
   "attachments": {},
   "cell_type": "markdown",
   "metadata": {},
   "source": [
    "## Newton-Raphson"
   ]
  },
  {
   "cell_type": "code",
   "execution_count": 156,
   "metadata": {},
   "outputs": [
    {
     "name": "stdout",
     "output_type": "stream",
     "text": [
      "n= 1, raíz aproximada = 0.4475560020284104\n",
      "n= 2, raíz aproximada = 0.44743183528062075\n",
      "n= 3, raíz aproximada = 0.4474315432903537\n",
      "n= 4, raíz aproximada = 0.4474315432887466\n",
      "n= 5, raíz aproximada = 0.4474315432887466\n",
      "n= 6, raíz aproximada = 0.4474315432887466\n",
      "n= 7, raíz aproximada = 0.4474315432887466\n",
      "n= 8, raíz aproximada = 0.4474315432887466\n",
      "n= 9, raíz aproximada = 0.4474315432887466\n",
      "n= 10, raíz aproximada = 0.4474315432887466\n",
      "El valor de la raiz que buscamos en la aproximacion es 0.4474315432887466, es decir, la cuarta iteración\n"
     ]
    }
   ],
   "source": [
    "x = parse_expr('x')\n",
    "f = sp.tan(sp.pi*x) - 6 # Establecemos nuestra función con respecto a x\n",
    "\n",
    "df = f.diff(x)  # Derivamos la función\n",
    "\n",
    "# Definimos la derivada y función como funciones\n",
    "f_func = sp.lambdify(x, f)\n",
    "df_func = sp.lambdify(x, df)\n",
    "\n",
    "N = 10 # Número de iteraciones\n",
    "xo = 0.45 # Valor de partida\n",
    "\n",
    "# Aplicamos la fórmula de Newton-Raphson\n",
    "for i in range(1, N+1):\n",
    "    xo = xo - f_func(xo)/df_func(xo)\n",
    "    print(f\"n= {str(i)}, raíz aproximada = {xo}\")\n",
    "\n",
    "# Guarda la raíz aproximada en una variable\n",
    "x1 = xo\n",
    "\n",
    "print(f\"El valor de la raiz que buscamos en la aproximacion es {(1/math.pi)*math.atan(6)}, es decir, la cuarta iteración\")\n"
   ]
  },
  {
   "attachments": {},
   "cell_type": "markdown",
   "metadata": {},
   "source": [
    "## Comprobamos graficamente"
   ]
  },
  {
   "cell_type": "code",
   "execution_count": 157,
   "metadata": {},
   "outputs": [
    {
     "data": {
      "image/png": "[encoded data removed]",
      "text/plain": [
       "<Figure size 640x480 with 1 Axes>"
      ]
     },
     "metadata": {},
     "output_type": "display_data"
    }
   ],
   "source": [
    "x= np.linspace(0,0.7,1000)\n",
    "y = (f_func(x))\n",
    "\n",
    "plt.plot(x,y)\n",
    "plt.ylim(-1,1)\n",
    "plt.axhline(0, color='black')\n",
    "plt.show()"
   ]
  },
  {
   "attachments": {},
   "cell_type": "markdown",
   "metadata": {},
   "source": [
    "# Secante"
   ]
  },
  {
   "attachments": {},
   "cell_type": "markdown",
   "metadata": {},
   "source": [
    "# Bisección"
   ]
  },
  {
   "attachments": {},
   "cell_type": "markdown",
   "metadata": {},
   "source": [
    "# Ejercicio 3\n",
    "La función $f(x) = 4x^2-e^{x}-e^{-x}$ tiene dos raíces positivas $x_{1},\\, x_{2}$, use el método de Newton para aproximar estos valores con una tolerancia de $10^{-6}$."
   ]
  },
  {
   "cell_type": "code",
   "execution_count": 158,
   "metadata": {},
   "outputs": [
    {
     "name": "stdout",
     "output_type": "stream",
     "text": [
      "La primera raíz positiva es aproximadamente x1 = 0.824498651241098\n",
      "La segunda raíz positiva es aproximadamente x2 = 4.306245274411121\n"
     ]
    }
   ],
   "source": [
    "\n",
    "x = parse_expr('x')\n",
    "\n",
    "f = 4*x**2 - sp.exp(x) - sp.exp(-x)\n",
    "\n",
    "df = f.diff(x)\n",
    "\n",
    "# Define la función f(x) como una función lambda\n",
    "f_func = sp.lambdify(x, f)\n",
    "\n",
    "# Define la derivada f'(x) como una función lambda\n",
    "df_func = sp.lambdify(x, df)\n",
    "\n",
    "# Define los valores iniciales y la tolerancia\n",
    "x1_initial = 0.8\n",
    "x2_initial = 4.3\n",
    "tol = 10**-6\n",
    "max_iter = 10\n",
    "\n",
    "# Ejecuta el método de Newton-Raphson para la primera raíz\n",
    "x1 = x1_initial\n",
    "for i in range(max_iter):\n",
    "    x1_next = x1 - f_func(x1) / df_func(x1)\n",
    "    \n",
    "    if abs(x1_next - x1) < tol:\n",
    "        break\n",
    "\n",
    "    x1 = x1_next\n",
    "\n",
    "# Ejecuta el método de Newton-Raphson para la segunda raíz\n",
    "x2 = x2_initial\n",
    "for i in range(max_iter):\n",
    "    x2_next = x2 - f_func(x2) / df_func(x2)\n",
    "    \n",
    "    if abs(x2_next - x2) < tol:\n",
    "        break\n",
    "\n",
    "    x2 = x2_next\n",
    "\n",
    "# Imprime las raíces aproximadas\n",
    "print(f\"La primera raíz positiva es aproximadamente x1 = {x1}\")\n",
    "print(f\"La segunda raíz positiva es aproximadamente x2 = {x2}\")"
   ]
  },
  {
   "cell_type": "code",
   "execution_count": 159,
   "metadata": {},
   "outputs": [
    {
     "name": "stdout",
     "output_type": "stream",
     "text": [
      "n= 1, raíz aproximada = 0.8273694076746386\n",
      "n= 2, raíz aproximada = 0.8245031454295321\n",
      "n= 3, raíz aproximada = 0.8244985853026893\n",
      "n= 4, raíz aproximada = 0.8244985852911388\n",
      "n= 5, raíz aproximada = 0.8244985852911388\n",
      "n= 6, raíz aproximada = 0.8244985852911388\n",
      "n= 7, raíz aproximada = 0.8244985852911388\n",
      "n= 8, raíz aproximada = 0.8244985852911388\n",
      "n= 9, raíz aproximada = 0.8244985852911388\n",
      "n= 10, raíz aproximada = 0.8244985852911388\n",
      "n= 11, raíz aproximada = 0.8244985852911388\n",
      "n= 12, raíz aproximada = 0.8244985852911388\n",
      "n= 13, raíz aproximada = 0.8244985852911388\n",
      "n= 14, raíz aproximada = 0.8244985852911388\n",
      "n= 15, raíz aproximada = 0.8244985852911388\n",
      "n= 16, raíz aproximada = 0.8244985852911388\n",
      "n= 17, raíz aproximada = 0.8244985852911388\n",
      "n= 18, raíz aproximada = 0.8244985852911388\n",
      "n= 19, raíz aproximada = 0.8244985852911388\n",
      "n= 20, raíz aproximada = 0.8244985852911388\n",
      "El valor de la raiz que buscamos en la aproximacion es 0.4474315432887466, es decir, la cuarta iteración\n"
     ]
    }
   ],
   "source": [
    "x = parse_expr('x')\n",
    "f =  4*x**2 - sp.exp(x) - sp.exp(-x) # Establecemos nuestra función con respecto a x\n",
    "\n",
    "df = f.diff(x)  # Derivamos la función\n",
    "\n",
    "# Definimos la derivada y función como funciones\n",
    "f_func = sp.lambdify(x, f)\n",
    "df_func = sp.lambdify(x, df)\n",
    "\n",
    "N = 20 # Número de iteraciones\n",
    "xo = 0.9 # Valor de partida\n",
    "\n",
    "# Aplicamos la fórmula de Newton-Raphson\n",
    "for i in range(1, N+1):\n",
    "    xo = xo - f_func(xo)/df_func(xo)\n",
    "    print(f\"n= {str(i)}, raíz aproximada = {xo}\")\n",
    "\n",
    "# Guarda la raíz aproximada en una variable\n",
    "x1 = xo\n",
    "\n",
    "print(f\"El valor de la raiz que buscamos en la aproximacion es {(1/math.pi)*math.atan(6)}, es decir, la cuarta iteración\")\n"
   ]
  }
 ],
 "metadata": {
  "kernelspec": {
   "display_name": "Python 3",
   "language": "python",
   "name": "python3"
  },
  "language_info": {
   "codemirror_mode": {
    "name": "ipython",
    "version": 3
   },
   "file_extension": ".py",
   "mimetype": "text/x-python",
   "name": "python",
   "nbconvert_exporter": "python",
   "pygments_lexer": "ipython3",
   "version": "3.11.2"
  },
  "orig_nbformat": 4
 },
 "nbformat": 4,
 "nbformat_minor": 2
}
